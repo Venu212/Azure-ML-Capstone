{
  "cells": [
    {
      "cell_type": "markdown",
      "source": [
        "# Automated ML\n",
        "\n"
      ],
      "metadata": {}
    },
    {
      "cell_type": "code",
      "source": [
        "#pip install -r /anaconda/envs/azureml_py36/lib/python3.6/site-packages/azureml/automl/core/validated_linux_requirements.txt"
      ],
      "outputs": [],
      "execution_count": 1,
      "metadata": {
        "collapsed": true,
        "gather": {
          "logged": 1611814681250
        },
        "jupyter": {
          "outputs_hidden": false,
          "source_hidden": false
        },
        "nteract": {
          "transient": {
            "deleting": false
          }
        }
      }
    },
    {
      "cell_type": "code",
      "source": [
        "import pandas as pd\n",
        "## Azure-related\n",
        "import azureml.core\n",
        "print(\"SDK version:\", azureml.core.VERSION)"
      ],
      "outputs": [
        {
          "output_type": "stream",
          "name": "stdout",
          "text": [
            "SDK version: 1.20.0\n"
          ]
        }
      ],
      "execution_count": 2,
      "metadata": {
        "gather": {
          "logged": 1611814681505
        }
      }
    },
    {
      "cell_type": "markdown",
      "source": [
        "##  Create compute cluster\n",
        "        # Get WS details and Subscription details"
      ],
      "metadata": {}
    },
    {
      "cell_type": "code",
      "source": [
        "from azureml.core import Workspace, Experiment, Run\n",
        "#ws = Workspace.get(name=\"udacity-project\")\n",
        "ws = Workspace.from_config() \n",
        "\n",
        "print('Workspace name: ' + ws.name, \n",
        "      'Azure region: ' + ws.location, \n",
        "      'Subscription id: ' + ws.subscription_id, \n",
        "      'Resource group: ' + ws.resource_group, sep = '\\n')"
      ],
      "outputs": [
        {
          "output_type": "stream",
          "name": "stdout",
          "text": [
            "Workspace name: quick-starts-ws-136346\n",
            "Azure region: southcentralus\n",
            "Subscription id: a24a24d5-8d87-4c8a-99b6-91ed2d2df51f\n",
            "Resource group: aml-quickstarts-136346\n"
          ]
        }
      ],
      "execution_count": 3,
      "metadata": {
        "ExecuteTime": {
          "end_time": "2021-01-03T05:24:06.340805Z",
          "start_time": "2021-01-03T05:24:06.312783Z"
        },
        "gather": {
          "logged": 1611814681825
        },
        "jupyter": {
          "outputs_hidden": false,
          "source_hidden": false
        },
        "nteract": {
          "transient": {
            "deleting": false
          }
        }
      }
    },
    {
      "cell_type": "markdown",
      "source": [
        "## Create Cluster"
      ],
      "metadata": {}
    },
    {
      "cell_type": "code",
      "source": [
        "from azureml.core.compute import AmlCompute\r\n",
        "from azureml.core.compute import ComputeTarget\r\n",
        "import os\r\n",
        "\r\n",
        "# choose a name for your cluster\r\n",
        "compute_name = os.environ.get(\"AML_COMPUTE_CLUSTER_NAME\", \"std-d2-v2-vn\")\r\n",
        "compute_min_nodes = os.environ.get(\"AML_COMPUTE_CLUSTER_MIN_NODES\", 0)\r\n",
        "compute_max_nodes = os.environ.get(\"AML_COMPUTE_CLUSTER_MAX_NODES\", 4)\r\n",
        "\r\n",
        "# This example uses CPU VM. For using GPU VM, set SKU to STANDARD_NC6\r\n",
        "vm_size = os.environ.get(\"AML_COMPUTE_CLUSTER_SKU\", \"STANDARD_D2_V2\")\r\n",
        "\r\n",
        "\r\n",
        "if compute_name in ws.compute_targets:\r\n",
        "    compute_target = ws.compute_targets[compute_name]\r\n",
        "    if compute_target and type(compute_target) is AmlCompute:\r\n",
        "        print('found compute target. just use it. ' + compute_name)\r\n",
        "else:\r\n",
        "    print('creating a new compute target...')\r\n",
        "    provisioning_config = AmlCompute.provisioning_configuration(vm_size = vm_size,\r\n",
        "                                                                min_nodes = compute_min_nodes, \r\n",
        "                                                                max_nodes = compute_max_nodes)\r\n",
        "\r\n",
        "    # create the cluster\r\n",
        "    compute_target = ComputeTarget.create(ws, compute_name, provisioning_config)\r\n",
        "    \r\n",
        "    # can poll for a minimum number of nodes and for a specific timeout. \r\n",
        "    # if no min node count is provided it will use the scale settings for the cluster\r\n",
        "    compute_target.wait_for_completion(show_output=True, min_node_count=None, timeout_in_minutes=20)\r\n",
        "    \r\n",
        "     # For a more detailed view of current AmlCompute status, use get_status()\r\n",
        "    print(compute_target.get_status().serialize())"
      ],
      "outputs": [],
      "execution_count": 4,
      "metadata": {
        "gather": {
          "logged": 1611814682377
        }
      }
    },
    {
      "cell_type": "markdown",
      "source": [
        "## Dataset\n",
        "\n",
        "### Overview\n",
        "* The incident management log data is retrieved from UCI Machine learnig data set. [Incident Data)[https://archive.ics.uci.edu/ml/datasets/Incident+management+process+enriched+event+log]. The data is sourced from a Servicenow platform for IT service management.  \n",
        "  \n",
        "* This provides details of various incidents recorded over period of time . I have taken up this project to predict ETA(expected time of accomplishment) to understand time to resolve each incident. This helps IT department to provide ETA for customers based on time taken to resolve similar issues historically. This will also help IT department to understand if any instance will go beyond expected SLA.\n",
        "\n",
        "\n",
        "from azureml.core.compute import ComputeTarget, AmlCompute\n",
        "from azureml.core.compute_target import ComputeTargetException"
      ],
      "metadata": {}
    },
    {
      "cell_type": "code",
      "source": [
        "import pandas as pd\r\n",
        "import numpy as np\r\n",
        "import os\r\n",
        "import zipfile\r\n",
        "from zipfile import ZipFile\r\n",
        "from zipfile import BadZipFile\r\n",
        "from glob import iglob\r\n",
        "from io import BytesIO\r\n",
        "from urllib.request import urlopen\r\n",
        "import dateutil.parser\r\n",
        "\r\n",
        "from sklearn import datasets, linear_model\r\n",
        "from time import time\r\n",
        "import datetime\r\n",
        "from datetime import timedelta\r\n",
        "import time\r\n",
        "\r\n",
        "import argparse\r\n",
        "import joblib\r\n",
        "from sklearn.preprocessing import OneHotEncoder\r\n",
        "from sklearn.model_selection import train_test_split\r\n",
        "from sklearn.metrics import r2_score\r\n",
        "from sklearn.ensemble import GradientBoostingRegressor\r\n",
        "\r\n",
        "from azureml.data.dataset_factory import TabularDatasetFactory\r\n",
        "from azureml.core.run import Run\r\n",
        "from math import sqrt\r\n",
        "from sklearn.metrics import mean_squared_error\r\n",
        "from sklearn.metrics import r2_score\r\n",
        "from sklearn.preprocessing import LabelEncoder\r\n",
        "import source.train as src\r\n"
      ],
      "outputs": [],
      "execution_count": 5,
      "metadata": {
        "collapsed": true,
        "gather": {
          "logged": 1611814682752
        },
        "jupyter": {
          "outputs_hidden": false,
          "source_hidden": false
        },
        "nteract": {
          "transient": {
            "deleting": false
          }
        }
      }
    },
    {
      "cell_type": "code",
      "source": [
        "\n",
        "def loadData(ds):\n",
        "    #datasource = 'incident_event_log.zip'\n",
        "    # datasource = urlopen(\"https://archive.ics.uci.edu/ml/machine-learning-databases/00498/incident_event_log.zip\")\n",
        "    datasource = urlopen(ds)\n",
        "    try:\n",
        "        # with zipfile.ZipFile('incident_event_log.zip') as ds:\n",
        "        ds = ZipFile(BytesIO(datasource.read()))\n",
        "        ds.extractall()\n",
        "        ds.namelist()\n",
        "        #df = pd.read_csv(zipfile.open('incident_event_log.csv')\n",
        "        df = pd.read_csv(next(iglob('*.csv')))\n",
        "        return(df)  \n",
        "    except zipfile.BadZipFile:\n",
        "        print('Bad zip file')"
      ],
      "outputs": [],
      "execution_count": 6,
      "metadata": {
        "gather": {
          "logged": 1611814683004
        }
      }
    },
    {
      "cell_type": "code",
      "source": [
        "\n",
        "import pandas as pd\n",
        "\n",
        "datasource = \"https://archive.ics.uci.edu/ml/machine-learning-databases/00498/incident_event_log.zip\"\n",
        "df = src.loadData()\n",
        "\n",
        "#df.head(2)\n",
        "df.head()\n"
      ],
      "outputs": [
        {
          "output_type": "execute_result",
          "execution_count": 7,
          "data": {
            "text/plain": "       number incident_state  active  reassignment_count  reopen_count  \\\n0  INC0000045            New    True                   0             0   \n1  INC0000045       Resolved    True                   0             0   \n2  INC0000045       Resolved    True                   0             0   \n3  INC0000045         Closed   False                   0             0   \n4  INC0000047            New    True                   0             0   \n\n   sys_mod_count  made_sla    caller_id       opened_by        opened_at  ...  \\\n0              0      True  Caller 2403    Opened by  8  29/2/2016 01:16  ...   \n1              2      True  Caller 2403    Opened by  8  29/2/2016 01:16  ...   \n2              3      True  Caller 2403    Opened by  8  29/2/2016 01:16  ...   \n3              4      True  Caller 2403    Opened by  8  29/2/2016 01:16  ...   \n4              0      True  Caller 2403  Opened by  397  29/2/2016 04:40  ...   \n\n  u_priority_confirmation         notify problem_id rfc vendor caused_by  \\\n0                   False  Do Not Notify          ?   ?      ?         ?   \n1                   False  Do Not Notify          ?   ?      ?         ?   \n2                   False  Do Not Notify          ?   ?      ?         ?   \n3                   False  Do Not Notify          ?   ?      ?         ?   \n4                   False  Do Not Notify          ?   ?      ?         ?   \n\n  closed_code      resolved_by      resolved_at       closed_at  \n0      code 5  Resolved by 149  29/2/2016 11:29  5/3/2016 12:00  \n1      code 5  Resolved by 149  29/2/2016 11:29  5/3/2016 12:00  \n2      code 5  Resolved by 149  29/2/2016 11:29  5/3/2016 12:00  \n3      code 5  Resolved by 149  29/2/2016 11:29  5/3/2016 12:00  \n4      code 5   Resolved by 81   1/3/2016 09:52  6/3/2016 10:00  \n\n[5 rows x 36 columns]",
            "text/html": "<div>\n<style scoped>\n    .dataframe tbody tr th:only-of-type {\n        vertical-align: middle;\n    }\n\n    .dataframe tbody tr th {\n        vertical-align: top;\n    }\n\n    .dataframe thead th {\n        text-align: right;\n    }\n</style>\n<table border=\"1\" class=\"dataframe\">\n  <thead>\n    <tr style=\"text-align: right;\">\n      <th></th>\n      <th>number</th>\n      <th>incident_state</th>\n      <th>active</th>\n      <th>reassignment_count</th>\n      <th>reopen_count</th>\n      <th>sys_mod_count</th>\n      <th>made_sla</th>\n      <th>caller_id</th>\n      <th>opened_by</th>\n      <th>opened_at</th>\n      <th>...</th>\n      <th>u_priority_confirmation</th>\n      <th>notify</th>\n      <th>problem_id</th>\n      <th>rfc</th>\n      <th>vendor</th>\n      <th>caused_by</th>\n      <th>closed_code</th>\n      <th>resolved_by</th>\n      <th>resolved_at</th>\n      <th>closed_at</th>\n    </tr>\n  </thead>\n  <tbody>\n    <tr>\n      <th>0</th>\n      <td>INC0000045</td>\n      <td>New</td>\n      <td>True</td>\n      <td>0</td>\n      <td>0</td>\n      <td>0</td>\n      <td>True</td>\n      <td>Caller 2403</td>\n      <td>Opened by  8</td>\n      <td>29/2/2016 01:16</td>\n      <td>...</td>\n      <td>False</td>\n      <td>Do Not Notify</td>\n      <td>?</td>\n      <td>?</td>\n      <td>?</td>\n      <td>?</td>\n      <td>code 5</td>\n      <td>Resolved by 149</td>\n      <td>29/2/2016 11:29</td>\n      <td>5/3/2016 12:00</td>\n    </tr>\n    <tr>\n      <th>1</th>\n      <td>INC0000045</td>\n      <td>Resolved</td>\n      <td>True</td>\n      <td>0</td>\n      <td>0</td>\n      <td>2</td>\n      <td>True</td>\n      <td>Caller 2403</td>\n      <td>Opened by  8</td>\n      <td>29/2/2016 01:16</td>\n      <td>...</td>\n      <td>False</td>\n      <td>Do Not Notify</td>\n      <td>?</td>\n      <td>?</td>\n      <td>?</td>\n      <td>?</td>\n      <td>code 5</td>\n      <td>Resolved by 149</td>\n      <td>29/2/2016 11:29</td>\n      <td>5/3/2016 12:00</td>\n    </tr>\n    <tr>\n      <th>2</th>\n      <td>INC0000045</td>\n      <td>Resolved</td>\n      <td>True</td>\n      <td>0</td>\n      <td>0</td>\n      <td>3</td>\n      <td>True</td>\n      <td>Caller 2403</td>\n      <td>Opened by  8</td>\n      <td>29/2/2016 01:16</td>\n      <td>...</td>\n      <td>False</td>\n      <td>Do Not Notify</td>\n      <td>?</td>\n      <td>?</td>\n      <td>?</td>\n      <td>?</td>\n      <td>code 5</td>\n      <td>Resolved by 149</td>\n      <td>29/2/2016 11:29</td>\n      <td>5/3/2016 12:00</td>\n    </tr>\n    <tr>\n      <th>3</th>\n      <td>INC0000045</td>\n      <td>Closed</td>\n      <td>False</td>\n      <td>0</td>\n      <td>0</td>\n      <td>4</td>\n      <td>True</td>\n      <td>Caller 2403</td>\n      <td>Opened by  8</td>\n      <td>29/2/2016 01:16</td>\n      <td>...</td>\n      <td>False</td>\n      <td>Do Not Notify</td>\n      <td>?</td>\n      <td>?</td>\n      <td>?</td>\n      <td>?</td>\n      <td>code 5</td>\n      <td>Resolved by 149</td>\n      <td>29/2/2016 11:29</td>\n      <td>5/3/2016 12:00</td>\n    </tr>\n    <tr>\n      <th>4</th>\n      <td>INC0000047</td>\n      <td>New</td>\n      <td>True</td>\n      <td>0</td>\n      <td>0</td>\n      <td>0</td>\n      <td>True</td>\n      <td>Caller 2403</td>\n      <td>Opened by  397</td>\n      <td>29/2/2016 04:40</td>\n      <td>...</td>\n      <td>False</td>\n      <td>Do Not Notify</td>\n      <td>?</td>\n      <td>?</td>\n      <td>?</td>\n      <td>?</td>\n      <td>code 5</td>\n      <td>Resolved by 81</td>\n      <td>1/3/2016 09:52</td>\n      <td>6/3/2016 10:00</td>\n    </tr>\n  </tbody>\n</table>\n<p>5 rows × 36 columns</p>\n</div>"
          },
          "metadata": {}
        }
      ],
      "execution_count": 7,
      "metadata": {
        "gather": {
          "logged": 1611814685244
        }
      }
    },
    {
      "cell_type": "code",
      "source": [
        "df.dtypes"
      ],
      "outputs": [
        {
          "output_type": "execute_result",
          "execution_count": 8,
          "data": {
            "text/plain": "number                     object\nincident_state             object\nactive                       bool\nreassignment_count          int64\nreopen_count                int64\nsys_mod_count               int64\nmade_sla                     bool\ncaller_id                  object\nopened_by                  object\nopened_at                  object\nsys_created_by             object\nsys_created_at             object\nsys_updated_by             object\nsys_updated_at             object\ncontact_type               object\nlocation                   object\ncategory                   object\nsubcategory                object\nu_symptom                  object\ncmdb_ci                    object\nimpact                     object\nurgency                    object\npriority                   object\nassignment_group           object\nassigned_to                object\nknowledge                    bool\nu_priority_confirmation      bool\nnotify                     object\nproblem_id                 object\nrfc                        object\nvendor                     object\ncaused_by                  object\nclosed_code                object\nresolved_by                object\nresolved_at                object\nclosed_at                  object\ndtype: object"
          },
          "metadata": {}
        }
      ],
      "execution_count": 8,
      "metadata": {
        "collapsed": true,
        "gather": {
          "logged": 1611814685486
        },
        "jupyter": {
          "outputs_hidden": false,
          "source_hidden": false
        },
        "nteract": {
          "transient": {
            "deleting": false
          }
        }
      }
    },
    {
      "cell_type": "markdown",
      "source": [
        "## Clean data \r\n",
        "## Craete features and target variable"
      ],
      "metadata": {
        "nteract": {
          "transient": {
            "deleting": false
          }
        }
      }
    },
    {
      "cell_type": "code",
      "source": [
        "\r\n",
        "def clean_data(df):\r\n",
        "    # select Incidents that are closed \r\n",
        "    df_closed = df[df['incident_state']=='Closed']\r\n",
        "    df1 = df_closed[['incident_state','category','assignment_group','reopen_count',\r\n",
        "                     'made_sla','impact','urgency','priority',\r\n",
        "                     'opened_at','closed_at','closed_code','caused_by']]\r\n",
        "    \r\n",
        "    list1 = []\r\n",
        "    for val in df1['opened_at']:\r\n",
        "        d1 = datetime.datetime.strptime(val, \"%d/%m/%Y %H:%M\")\r\n",
        "        t1 = time.mktime(d1.timetuple())\r\n",
        "        list1.append(t1)\r\n",
        "        \r\n",
        "    list2 = []\r\n",
        "    for val in df1['closed_at']:\r\n",
        "        d2 = datetime.datetime.strptime(val, \"%d/%m/%Y %H:%M\")\r\n",
        "        t2 = time.mktime(d2.timetuple())\r\n",
        "        list2.append(t2)\r\n",
        "        \r\n",
        "    list3 = []\r\n",
        "    for i in range(len(list1)):\r\n",
        "        list3.append(list2[i]-list1[i])\r\n",
        "        \r\n",
        "    df1['time_to_close'] = np.array(list3)\r\n",
        "    df1['time_to_close'] = df1['time_to_close']/3600.0\r\n",
        "    \r\n",
        "    priority=pd.get_dummies(df1.priority, prefix =\"priority\")\r\n",
        "    df1.drop('priority', inplace=True, axis=1)\r\n",
        "    df1= df1.join(priority)\r\n",
        "    \r\n",
        "    impact=pd.get_dummies(df1.impact, prefix =\"impact\")\r\n",
        "    df1.drop('impact', inplace=True, axis=1)\r\n",
        "    df1 = df1.join(impact)\r\n",
        "    \r\n",
        "    urgency=pd.get_dummies(df1.urgency, prefix =\"urgency\")\r\n",
        "    df1.drop('urgency', inplace=True, axis=1)\r\n",
        "    df1 = df1.join(urgency)\r\n",
        "    \r\n",
        "    closed_code=pd.get_dummies(df1.closed_code, prefix =\"closed_code\")\r\n",
        "    df1.drop('closed_code', inplace=True, axis=1)\r\n",
        "    df1 = df1.join(closed_code)\r\n",
        "    \r\n",
        "    lb_make = LabelEncoder()\r\n",
        "    df1['category'] = lb_make.fit_transform(df1['category'])\r\n",
        "    df1['assignment_group'] = lb_make.fit_transform(df1['assignment_group'])\r\n",
        "    \r\n",
        "    # df1['active']= df1['active'].astype(int)\r\n",
        "    df1['made_sla']=df1['made_sla'].astype(int)\r\n",
        "    \r\n",
        "    df1 = df1.dropna()\r\n",
        "    # df = pd.get_dummies(df)\r\n",
        "    #df1['time_to_close'] = time_to_close\r\n",
        "    df1 =df1.drop(['incident_state','opened_at','closed_at','caused_by'],axis=1)\r\n",
        "    #x = df1\r\n",
        "    #X = df1.drop(['time_to_close'],axis=1)\r\n",
        "    y= df1['time_to_close']\r\n",
        "    return(df1, y)\r\n",
        "\r\n"
      ],
      "outputs": [],
      "execution_count": 9,
      "metadata": {
        "collapsed": true,
        "gather": {
          "logged": 1611814685681
        },
        "jupyter": {
          "outputs_hidden": false,
          "source_hidden": false
        },
        "nteract": {
          "transient": {
            "deleting": false
          }
        }
      }
    },
    {
      "cell_type": "code",
      "source": [
        "### Get Test and Train split\r\n",
        "\r\n",
        "df1, y = clean_data(df)"
      ],
      "outputs": [
        {
          "output_type": "stream",
          "name": "stderr",
          "text": [
            "/anaconda/envs/azureml_py36/lib/python3.6/site-packages/ipykernel_launcher.py:24: SettingWithCopyWarning: \n",
            "A value is trying to be set on a copy of a slice from a DataFrame.\n",
            "Try using .loc[row_indexer,col_indexer] = value instead\n",
            "\n",
            "See the caveats in the documentation: http://pandas.pydata.org/pandas-docs/stable/user_guide/indexing.html#returning-a-view-versus-a-copy\n",
            "/anaconda/envs/azureml_py36/lib/python3.6/site-packages/ipykernel_launcher.py:25: SettingWithCopyWarning: \n",
            "A value is trying to be set on a copy of a slice from a DataFrame.\n",
            "Try using .loc[row_indexer,col_indexer] = value instead\n",
            "\n",
            "See the caveats in the documentation: http://pandas.pydata.org/pandas-docs/stable/user_guide/indexing.html#returning-a-view-versus-a-copy\n",
            "/anaconda/envs/azureml_py36/lib/python3.6/site-packages/pandas/core/frame.py:4117: SettingWithCopyWarning: \n",
            "A value is trying to be set on a copy of a slice from a DataFrame\n",
            "\n",
            "See the caveats in the documentation: http://pandas.pydata.org/pandas-docs/stable/user_guide/indexing.html#returning-a-view-versus-a-copy\n",
            "  errors=errors,\n"
          ]
        }
      ],
      "execution_count": 10,
      "metadata": {
        "ExecuteTime": {
          "end_time": "2021-01-03T04:23:15.449667Z",
          "start_time": "2021-01-03T04:23:15.407666Z"
        },
        "gather": {
          "logged": 1611814686307
        }
      }
    },
    {
      "cell_type": "code",
      "source": [
        "df1.columns"
      ],
      "outputs": [
        {
          "output_type": "execute_result",
          "execution_count": 11,
          "data": {
            "text/plain": "Index(['category', 'assignment_group', 'reopen_count', 'made_sla',\n       'time_to_close', 'priority_1 - Critical', 'priority_2 - High',\n       'priority_3 - Moderate', 'priority_4 - Low', 'impact_1 - High',\n       'impact_2 - Medium', 'impact_3 - Low', 'urgency_1 - High',\n       'urgency_2 - Medium', 'urgency_3 - Low', 'closed_code_?',\n       'closed_code_code 1', 'closed_code_code 10', 'closed_code_code 11',\n       'closed_code_code 12', 'closed_code_code 13', 'closed_code_code 14',\n       'closed_code_code 15', 'closed_code_code 16', 'closed_code_code 17',\n       'closed_code_code 2', 'closed_code_code 3', 'closed_code_code 4',\n       'closed_code_code 5', 'closed_code_code 6', 'closed_code_code 7',\n       'closed_code_code 8', 'closed_code_code 9'],\n      dtype='object')"
          },
          "metadata": {}
        }
      ],
      "execution_count": 11,
      "metadata": {
        "collapsed": true,
        "gather": {
          "logged": 1611814686632
        },
        "jupyter": {
          "outputs_hidden": false,
          "source_hidden": false
        },
        "nteract": {
          "transient": {
            "deleting": false
          }
        }
      }
    },
    {
      "cell_type": "code",
      "source": [
        "# X_train, X_test, y_train, y_test = src.train_test_data(X,y)\r\n",
        "\r\n",
        "#X_train, X_test, y_train, y_test = train_test_split(X, y, test_size=0.2, random_state=11)"
      ],
      "outputs": [],
      "execution_count": 12,
      "metadata": {
        "collapsed": true,
        "gather": {
          "logged": 1611814686870
        },
        "jupyter": {
          "outputs_hidden": false,
          "source_hidden": false
        },
        "nteract": {
          "transient": {
            "deleting": false
          }
        }
      }
    },
    {
      "cell_type": "code",
      "source": [],
      "outputs": [],
      "execution_count": null,
      "metadata": {
        "ExecuteTime": {
          "end_time": "2021-01-03T00:17:56.970733Z",
          "start_time": "2021-01-03T00:17:56.955723Z"
        },
        "gather": {
          "logged": 1609818305454
        }
      }
    },
    {
      "cell_type": "markdown",
      "source": [
        "## AutoML Configuration\n",
        "\n",
        "TODO: Explain why you chose the automl settings and cofiguration you used below."
      ],
      "metadata": {}
    },
    {
      "cell_type": "code",
      "source": [
        "import logging\n",
        "\n",
        "automl_settings = {\n",
        "    \"iteration_timeout_minutes\": 10,\n",
        "    \"experiment_timeout_hours\": 0.3,\n",
        "    \"enable_early_stopping\": True,\n",
        "    \"primary_metric\": 'r2_score',\n",
        "    \"featurization\": 'auto',\n",
        "    \"verbosity\": logging.INFO,\n",
        "    \"n_cross_validations\": 5\n",
        "}\n"
      ],
      "outputs": [],
      "execution_count": 13,
      "metadata": {
        "gather": {
          "logged": 1611814687067
        },
        "jupyter": {
          "outputs_hidden": false,
          "source_hidden": false
        },
        "nteract": {
          "transient": {
            "deleting": false
          }
        }
      }
    },
    {
      "cell_type": "code",
      "source": [
        "# df1['time_to_close']"
      ],
      "outputs": [],
      "execution_count": 14,
      "metadata": {
        "collapsed": true,
        "gather": {
          "logged": 1611814687281
        },
        "jupyter": {
          "outputs_hidden": false,
          "source_hidden": false
        },
        "nteract": {
          "transient": {
            "deleting": false
          }
        }
      }
    },
    {
      "cell_type": "code",
      "source": [
        "# TODO: Put your automl config here\n",
        "from azureml.train.automl import AutoMLConfig\n",
        "\n",
        "automl_config = AutoMLConfig(task='regression',\n",
        "                             debug_log='automated_ml_errors.log',\n",
        "                             experiment_timeout_minutes=20,\n",
        "                             primary_metric='r2_score',\n",
        "                             training_data=df1,\n",
        "                             label_column_name='time_to_close',\n",
        "                             featurization='auto',\n",
        "                             verbosity=logging.INFO,\n",
        "                             n_cross_validations=3)\n",
        "                          \n"
      ],
      "outputs": [],
      "execution_count": 15,
      "metadata": {
        "gather": {
          "logged": 1611814687510
        }
      }
    },
    {
      "cell_type": "markdown",
      "source": [
        "## Submit AUTO ML Experiment"
      ],
      "metadata": {
        "nteract": {
          "transient": {
            "deleting": false
          }
        }
      }
    },
    {
      "cell_type": "code",
      "source": [
        "# TODO: Submit your experiment\n",
        "\n",
        "from azureml.core.experiment import Experiment\n",
        "experiment = Experiment(ws, 'incidents-exp')\n",
        "automl_run = experiment.submit(automl_config)\n",
        "\n",
        "\n",
        "#run = experiment.submit(automl_config, show_output=True)"
      ],
      "outputs": [
        {
          "output_type": "stream",
          "name": "stderr",
          "text": [
            "WARNING:root:Running on local machine. Note that local runs always run synchronously even if you use the parameter 'show_output=False'\n"
          ]
        }
      ],
      "execution_count": 16,
      "metadata": {
        "gather": {
          "logged": 1611816194907
        },
        "jupyter": {
          "outputs_hidden": false,
          "source_hidden": false
        },
        "nteract": {
          "transient": {
            "deleting": false
          }
        }
      }
    },
    {
      "cell_type": "markdown",
      "source": [
        "## Run Details\n",
        "\n",
        "OPTIONAL: Write about the different models trained and their performance. Why do you think some models did better than others?\n",
        "\n",
        "TODO: In the cell below, use the `RunDetails` widget to show the different experiments."
      ],
      "metadata": {}
    },
    {
      "cell_type": "code",
      "source": [
        "# submit an experiment\n",
        "from azureml.widgets import RunDetails\n",
        "\n",
        "automl_run = experiment.submit(automl_config, show_output=True)\n",
        "RunDetails(automl_run).show()\n",
        "automl_run.wait_for_completion(show_output=True)\n",
        "\n",
        "\n"
      ],
      "outputs": [
        {
          "output_type": "stream",
          "name": "stdout",
          "text": [
            "Running on local machine\n",
            "Parent Run ID: AutoML_5b4f94d5-e680-469e-890b-774eb1fb462b\n",
            "\n",
            "Current status: DatasetEvaluation. Gathering dataset statistics.\n",
            "Current status: FeaturesGeneration. Generating features for the dataset.\n",
            "Current status: DatasetFeaturization. Beginning to fit featurizers and featurize the dataset.\n",
            "Current status: DatasetFeaturizationCompleted. Completed fit featurizers and featurizing the dataset.\n",
            "Current status: DatasetCrossValidationSplit. Generating individually featurized CV splits.\n",
            "\n",
            "****************************************************************************************************\n",
            "DATA GUARDRAILS: \n",
            "\n",
            "TYPE:         Missing feature values imputation\n",
            "STATUS:       PASSED\n",
            "DESCRIPTION:  No feature missing values were detected in the training data.\n",
            "              Learn more about missing value imputation: https://aka.ms/AutomatedMLFeaturization\n",
            "\n",
            "****************************************************************************************************\n",
            "\n",
            "TYPE:         High cardinality feature detection\n",
            "STATUS:       PASSED\n",
            "DESCRIPTION:  Your inputs were analyzed, and no high cardinality features were detected.\n",
            "              Learn more about high cardinality feature handling: https://aka.ms/AutomatedMLFeaturization\n",
            "\n",
            "****************************************************************************************************\n",
            "Current status: ModelSelection. Beginning model selection.\n",
            "\n",
            "****************************************************************************************************\n",
            "ITERATION: The iteration being evaluated.\n",
            "PIPELINE: A summary description of the pipeline being evaluated.\n",
            "DURATION: Time taken for the current iteration.\n",
            "METRIC: The result of computing score on the fitted pipeline.\n",
            "BEST: The best observed score thus far.\n",
            "****************************************************************************************************\n",
            "\n",
            " ITERATION   PIPELINE                                       DURATION      METRIC      BEST\n",
            "         0   MaxAbsScaler LightGBM                          0:00:28       0.4922    0.4922\n",
            "         1   MaxAbsScaler XGBoostRegressor                  0:00:29       0.4613    0.4922\n",
            "         2   SparseNormalizer XGBoostRegressor              0:00:42       0.4554    0.4922\n",
            "         3   MaxAbsScaler RandomForest                      0:01:07       0.3148    0.4922\n",
            "         4   StandardScalerWrapper XGBoostRegressor         0:00:38       0.4789    0.4922\n",
            "         5   MaxAbsScaler ElasticNet                        0:00:39       0.2022    0.4922\n",
            "         6   MaxAbsScaler RandomForest                      0:01:47       0.2841    0.4922\n",
            "         7   StandardScalerWrapper XGBoostRegressor         0:00:39       0.4909    0.4922\n",
            "         8   MaxAbsScaler ExtremeRandomTrees                0:01:11       0.4117    0.4922\n",
            "         9   StandardScalerWrapper ElasticNet               0:00:30       0.2021    0.4922\n",
            "        10   MaxAbsScaler RandomForest                      0:01:01       0.3596    0.4922\n",
            "        11   MaxAbsScaler RandomForest                      0:00:28       0.2583    0.4922\n",
            "        12   StandardScalerWrapper XGBoostRegressor         0:00:29       0.4782    0.4922\n",
            "        13   MaxAbsScaler ExtremeRandomTrees                0:00:33       0.4231    0.4922\n",
            "        14   MaxAbsScaler ExtremeRandomTrees                0:00:29       0.2038    0.4922\n",
            "        15   MaxAbsScaler ExtremeRandomTrees                0:01:03       0.3837    0.4922\n",
            "        16   MaxAbsScaler ElasticNet                        0:00:35       0.2029    0.4922\n",
            "        17   MaxAbsScaler RandomForest                      0:00:28       0.2173    0.4922\n",
            "        18   MaxAbsScaler RandomForest                      0:00:30       0.3860    0.4922\n",
            "        19   SparseNormalizer XGBoostRegressor              0:01:30       0.4461    0.4922\n",
            "        20   StandardScalerWrapper RandomForest             0:00:37       0.3639    0.4922\n",
            "        21   MaxAbsScaler ElasticNet                        0:00:48       0.2027    0.4922\n",
            "        22   VotingEnsemble                                 0:00:44       0.5031    0.5031\n",
            "        23   StackEnsemble                                  0:00:43       0.5001    0.5031\n",
            "Stopping criteria reached at iteration 24. Ending experiment.\n",
            "****************************************************************************************************\n",
            "Current status: BestRunExplainModel. Best run model explanations started\n",
            "Current status: ModelExplanationDataSetSetup. Model explanations data setup completed\n",
            "Current status: PickSurrogateModel. Choosing LightGBM as the surrogate model for explanations\n",
            "Current status: EngineeredFeatureExplanations. Computation of engineered features started\n",
            "Current status: EngineeredFeatureExplanations. Computation of engineered features completed\n",
            "Current status: RawFeaturesExplanations. Computation of raw features started\n",
            "Current status: RawFeaturesExplanations. Computation of raw features completed\n",
            "Current status: BestRunExplainModel. Best run model explanations completed\n",
            "****************************************************************************************************\n",
            "\n",
            "\n",
            "****************************************************************************************************\n",
            "DATA GUARDRAILS: \n",
            "\n",
            "TYPE:         Missing feature values imputation\n",
            "STATUS:       PASSED\n",
            "DESCRIPTION:  No feature missing values were detected in the training data.\n",
            "              Learn more about missing value imputation: https://aka.ms/AutomatedMLFeaturization\n",
            "\n",
            "****************************************************************************************************\n",
            "\n",
            "TYPE:         High cardinality feature detection\n",
            "STATUS:       PASSED\n",
            "DESCRIPTION:  Your inputs were analyzed, and no high cardinality features were detected.\n",
            "              Learn more about high cardinality feature handling: https://aka.ms/AutomatedMLFeaturization\n",
            "\n",
            "****************************************************************************************************\n",
            "\n",
            "****************************************************************************************************\n",
            "ITERATION: The iteration being evaluated.\n",
            "PIPELINE: A summary description of the pipeline being evaluated.\n"
          ]
        },
        {
          "output_type": "display_data",
          "data": {
            "text/plain": "_AutoMLWidget(widget_settings={'childWidgetDisplay': 'popup', 'send_telemetry': False, 'log_level': 'INFO', 's…",
            "application/vnd.jupyter.widget-view+json": {
              "version_major": 2,
              "version_minor": 0,
              "model_id": "8d167a129c224695956620bf6f028906"
            }
          },
          "metadata": {}
        },
        {
          "output_type": "display_data",
          "data": {
            "application/aml.mini.widget.v1": "{\"status\": \"Completed\", \"workbench_run_details_uri\": \"https://ml.azure.com/experiments/incidents-exp/runs/AutoML_5b4f94d5-e680-469e-890b-774eb1fb462b?wsid=/subscriptions/a24a24d5-8d87-4c8a-99b6-91ed2d2df51f/resourcegroups/aml-quickstarts-136346/workspaces/quick-starts-ws-136346\", \"run_id\": \"AutoML_5b4f94d5-e680-469e-890b-774eb1fb462b\", \"run_properties\": {\"run_id\": \"AutoML_5b4f94d5-e680-469e-890b-774eb1fb462b\", \"created_utc\": \"2021-01-28T06:43:16.245344Z\", \"properties\": {\"num_iterations\": \"1000\", \"training_type\": \"TrainFull\", \"acquisition_function\": \"EI\", \"primary_metric\": \"r2_score\", \"train_split\": \"0\", \"acquisition_parameter\": \"0\", \"num_cross_validation\": \"3\", \"target\": \"local\", \"AMLSettingsJsonString\": \"{\\\"path\\\":null,\\\"name\\\":\\\"incidents-exp\\\",\\\"subscription_id\\\":\\\"a24a24d5-8d87-4c8a-99b6-91ed2d2df51f\\\",\\\"resource_group\\\":\\\"aml-quickstarts-136346\\\",\\\"workspace_name\\\":\\\"quick-starts-ws-136346\\\",\\\"region\\\":\\\"southcentralus\\\",\\\"compute_target\\\":\\\"local\\\",\\\"spark_service\\\":null,\\\"azure_service\\\":\\\"Microsoft.AzureNotebookVM\\\",\\\"many_models\\\":false,\\\"pipeline_fetch_max_batch_size\\\":1,\\\"iterations\\\":1000,\\\"primary_metric\\\":\\\"r2_score\\\",\\\"task_type\\\":\\\"regression\\\",\\\"data_script\\\":null,\\\"validation_size\\\":0.0,\\\"n_cross_validations\\\":3,\\\"y_min\\\":null,\\\"y_max\\\":null,\\\"num_classes\\\":null,\\\"featurization\\\":\\\"auto\\\",\\\"_ignore_package_version_incompatibilities\\\":false,\\\"is_timeseries\\\":false,\\\"max_cores_per_iteration\\\":1,\\\"max_concurrent_iterations\\\":1,\\\"iteration_timeout_minutes\\\":null,\\\"mem_in_mb\\\":null,\\\"enforce_time_on_windows\\\":false,\\\"experiment_timeout_minutes\\\":20,\\\"experiment_exit_score\\\":null,\\\"whitelist_models\\\":null,\\\"blacklist_algos\\\":[\\\"TensorFlowDNN\\\",\\\"TensorFlowLinearRegressor\\\"],\\\"supported_models\\\":[\\\"KNN\\\",\\\"XGBoostRegressor\\\",\\\"OnlineGradientDescentRegressor\\\",\\\"DecisionTree\\\",\\\"TensorFlowDNN\\\",\\\"ExtremeRandomTrees\\\",\\\"FastLinearRegressor\\\",\\\"SGD\\\",\\\"TensorFlowLinearRegressor\\\",\\\"LightGBM\\\",\\\"ElasticNet\\\",\\\"RandomForest\\\",\\\"LassoLars\\\",\\\"GradientBoosting\\\"],\\\"auto_blacklist\\\":true,\\\"blacklist_samples_reached\\\":false,\\\"exclude_nan_labels\\\":true,\\\"verbosity\\\":20,\\\"_debug_log\\\":\\\"automated_ml_errors.log\\\",\\\"show_warnings\\\":false,\\\"model_explainability\\\":true,\\\"service_url\\\":null,\\\"sdk_url\\\":null,\\\"sdk_packages\\\":null,\\\"enable_onnx_compatible_models\\\":false,\\\"enable_split_onnx_featurizer_estimator_models\\\":false,\\\"vm_type\\\":null,\\\"telemetry_verbosity\\\":20,\\\"send_telemetry\\\":true,\\\"enable_dnn\\\":false,\\\"scenario\\\":\\\"SDK-1.13.0\\\",\\\"environment_label\\\":null,\\\"force_text_dnn\\\":false,\\\"enable_feature_sweeping\\\":true,\\\"enable_early_stopping\\\":false,\\\"early_stopping_n_iters\\\":10,\\\"metrics\\\":null,\\\"enable_ensembling\\\":true,\\\"enable_stack_ensembling\\\":true,\\\"ensemble_iterations\\\":15,\\\"enable_tf\\\":false,\\\"enable_subsampling\\\":null,\\\"subsample_seed\\\":null,\\\"enable_nimbusml\\\":false,\\\"enable_streaming\\\":false,\\\"force_streaming\\\":false,\\\"track_child_runs\\\":true,\\\"allowed_private_models\\\":[],\\\"label_column_name\\\":\\\"time_to_close\\\",\\\"weight_column_name\\\":null,\\\"cv_split_column_names\\\":null,\\\"enable_local_managed\\\":false,\\\"_local_managed_run_id\\\":null,\\\"cost_mode\\\":1,\\\"lag_length\\\":0,\\\"metric_operation\\\":\\\"maximize\\\",\\\"preprocess\\\":true}\", \"DataPrepJsonString\": null, \"EnableSubsampling\": null, \"runTemplate\": \"AutoML\", \"azureml.runsource\": \"automl\", \"display_task_type\": \"regression\", \"dependencies_versions\": \"{\\\"azureml-widgets\\\": \\\"1.20.0\\\", \\\"azureml-train\\\": \\\"1.20.0\\\", \\\"azureml-train-restclients-hyperdrive\\\": \\\"1.20.0\\\", \\\"azureml-train-core\\\": \\\"1.20.0\\\", \\\"azureml-train-automl\\\": \\\"1.20.0\\\", \\\"azureml-train-automl-runtime\\\": \\\"1.20.0\\\", \\\"azureml-train-automl-client\\\": \\\"1.20.0\\\", \\\"azureml-tensorboard\\\": \\\"1.20.0\\\", \\\"azureml-telemetry\\\": \\\"1.20.0\\\", \\\"azureml-sdk\\\": \\\"1.20.0\\\", \\\"azureml-samples\\\": \\\"0+unknown\\\", \\\"azureml-pipeline\\\": \\\"1.20.0\\\", \\\"azureml-pipeline-steps\\\": \\\"1.20.0\\\", \\\"azureml-pipeline-core\\\": \\\"1.20.0\\\", \\\"azureml-opendatasets\\\": \\\"1.20.0\\\", \\\"azureml-model-management-sdk\\\": \\\"1.0.1b6.post1\\\", \\\"azureml-mlflow\\\": \\\"1.20.0.post1\\\", \\\"azureml-interpret\\\": \\\"1.20.0\\\", \\\"azureml-explain-model\\\": \\\"1.20.0\\\", \\\"azureml-defaults\\\": \\\"1.20.0\\\", \\\"azureml-dataset-runtime\\\": \\\"1.20.0\\\", \\\"azureml-dataprep\\\": \\\"2.7.1\\\", \\\"azureml-dataprep-rslex\\\": \\\"1.5.0\\\", \\\"azureml-dataprep-native\\\": \\\"27.0.0\\\", \\\"azureml-datadrift\\\": \\\"1.20.0\\\", \\\"azureml-core\\\": \\\"1.20.0\\\", \\\"azureml-contrib-services\\\": \\\"1.20.0\\\", \\\"azureml-contrib-server\\\": \\\"1.20.0\\\", \\\"azureml-contrib-reinforcementlearning\\\": \\\"1.20.0\\\", \\\"azureml-contrib-pipeline-steps\\\": \\\"1.20.0\\\", \\\"azureml-contrib-notebook\\\": \\\"1.20.0\\\", \\\"azureml-contrib-interpret\\\": \\\"1.20.0\\\", \\\"azureml-contrib-gbdt\\\": \\\"1.20.0\\\", \\\"azureml-contrib-fairness\\\": \\\"1.20.0\\\", \\\"azureml-contrib-dataset\\\": \\\"1.20.0\\\", \\\"azureml-cli-common\\\": \\\"1.20.0\\\", \\\"azureml-automl-runtime\\\": \\\"1.20.0\\\", \\\"azureml-automl-core\\\": \\\"1.20.0\\\", \\\"azureml-accel-models\\\": \\\"1.20.0\\\"}\", \"_aml_system_scenario_identification\": \"Local.Parent\", \"ClientSdkVersion\": \"1.20.0\", \"ClientType\": \"SDK\", \"environment_cpu_name\": \"AzureML-AutoML\", \"environment_cpu_label\": \"prod\", \"environment_gpu_name\": \"AzureML-AutoML-GPU\", \"environment_gpu_label\": \"prod\", \"root_attribution\": \"automl\", \"attribution\": \"AutoML\", \"Orchestrator\": \"AutoML\", \"_azureml.ComputeTargetType\": \"local\", \"ProblemInfoJsonString\": \"{\\\"dataset_num_categorical\\\": 0, \\\"is_sparse\\\": true, \\\"subsampling\\\": false, \\\"dataset_classes\\\": 11039, \\\"dataset_features\\\": 38, \\\"dataset_samples\\\": 24985, \\\"single_frequency_class_detected\\\": false}\", \"feature_skus\": \"automatedml_sdk_guardrails\"}, \"tags\": {\"model_explain_run\": \"best_run\", \"best_score\": \"0.5031106785977179\", \"best_pipeline\": \"VotingEnsemble\", \"automl_best_child_run_id\": \"AutoML_5b4f94d5-e680-469e-890b-774eb1fb462b_22\", \"model_explain_best_run_child_id\": \"AutoML_5b4f94d5-e680-469e-890b-774eb1fb462b_22\"}, \"end_time_utc\": \"2021-01-28T07:04:59.074367Z\", \"status\": \"Completed\", \"log_files\": {}, \"log_groups\": [], \"run_duration\": \"0:21:42\"}, \"child_runs\": [{\"run_id\": \"AutoML_5b4f94d5-e680-469e-890b-774eb1fb462b_0\", \"run_number\": 27, \"metric\": null, \"status\": \"Completed\", \"run_type\": null, \"training_percent\": \"100\", \"start_time\": \"2021-01-28T06:46:00.716579Z\", \"end_time\": \"2021-01-28T06:46:29.398823Z\", \"created_time\": \"2021-01-28T06:46:00.540615Z\", \"created_time_dt\": \"2021-01-28T06:46:00.540615Z\", \"duration\": \"0:00:28\", \"iteration\": \"0\", \"goal\": \"r2_score_max\", \"run_name\": \"MaxAbsScaler, LightGBM\", \"run_properties\": \"copy=True\", \"primary_metric\": 0.49224705, \"best_metric\": 0.49224705}, {\"run_id\": \"AutoML_5b4f94d5-e680-469e-890b-774eb1fb462b_1\", \"run_number\": 28, \"metric\": null, \"status\": \"Completed\", \"run_type\": null, \"training_percent\": \"100\", \"start_time\": \"2021-01-28T06:46:29.785411Z\", \"end_time\": \"2021-01-28T06:46:59.178093Z\", \"created_time\": \"2021-01-28T06:46:29.699171Z\", \"created_time_dt\": \"2021-01-28T06:46:29.699171Z\", \"duration\": \"0:00:29\", \"iteration\": \"1\", \"goal\": \"r2_score_max\", \"run_name\": \"MaxAbsScaler, XGBoostRegressor\", \"run_properties\": \"copy=True\", \"primary_metric\": 0.46132576, \"best_metric\": 0.49224705}, {\"run_id\": \"AutoML_5b4f94d5-e680-469e-890b-774eb1fb462b_2\", \"run_number\": 29, \"metric\": null, \"status\": \"Completed\", \"run_type\": null, \"training_percent\": \"100\", \"start_time\": \"2021-01-28T06:46:59.938616Z\", \"end_time\": \"2021-01-28T06:47:42.186564Z\", \"created_time\": \"2021-01-28T06:46:59.841278Z\", \"created_time_dt\": \"2021-01-28T06:46:59.841278Z\", \"duration\": \"0:00:42\", \"iteration\": \"2\", \"goal\": \"r2_score_max\", \"run_name\": \"SparseNormalizer, XGBoostRegressor\", \"run_properties\": \"<azureml.automl.runtime.shared.model_wrappers.SparseNormalizer object at 0x7f83ea3d2208\", \"primary_metric\": 0.45540346, \"best_metric\": 0.49224705}, {\"run_id\": \"AutoML_5b4f94d5-e680-469e-890b-774eb1fb462b_3\", \"run_number\": 30, \"metric\": null, \"status\": \"Completed\", \"run_type\": null, \"training_percent\": \"100\", \"start_time\": \"2021-01-28T06:47:43.87498Z\", \"end_time\": \"2021-01-28T06:48:51.686051Z\", \"created_time\": \"2021-01-28T06:47:43.774066Z\", \"created_time_dt\": \"2021-01-28T06:47:43.774066Z\", \"duration\": \"0:01:07\", \"iteration\": \"3\", \"goal\": \"r2_score_max\", \"run_name\": \"MaxAbsScaler, RandomForest\", \"run_properties\": \"copy=True\", \"primary_metric\": 0.31476839, \"best_metric\": 0.49224705}, {\"run_id\": \"AutoML_5b4f94d5-e680-469e-890b-774eb1fb462b_4\", \"run_number\": 31, \"metric\": null, \"status\": \"Completed\", \"run_type\": null, \"training_percent\": \"100\", \"start_time\": \"2021-01-28T06:48:54.921781Z\", \"end_time\": \"2021-01-28T06:49:33.583145Z\", \"created_time\": \"2021-01-28T06:48:54.822361Z\", \"created_time_dt\": \"2021-01-28T06:48:54.822361Z\", \"duration\": \"0:00:38\", \"iteration\": \"4\", \"goal\": \"r2_score_max\", \"run_name\": \"StandardScalerWrapper, XGBoostRegressor\", \"run_properties\": \"<azureml.automl.runtime.shared.model_wrappers.StandardScalerWrapper object at 0x7f83eb724128\", \"primary_metric\": 0.47893367, \"best_metric\": 0.49224705}, {\"run_id\": \"AutoML_5b4f94d5-e680-469e-890b-774eb1fb462b_5\", \"run_number\": 32, \"metric\": null, \"status\": \"Completed\", \"run_type\": null, \"training_percent\": \"100\", \"start_time\": \"2021-01-28T06:49:35.061693Z\", \"end_time\": \"2021-01-28T06:50:14.429358Z\", \"created_time\": \"2021-01-28T06:49:34.976505Z\", \"created_time_dt\": \"2021-01-28T06:49:34.976505Z\", \"duration\": \"0:00:39\", \"iteration\": \"5\", \"goal\": \"r2_score_max\", \"run_name\": \"MaxAbsScaler, ElasticNet\", \"run_properties\": \"copy=True\", \"primary_metric\": 0.20215277, \"best_metric\": 0.49224705}, {\"run_id\": \"AutoML_5b4f94d5-e680-469e-890b-774eb1fb462b_6\", \"run_number\": 33, \"metric\": null, \"status\": \"Completed\", \"run_type\": null, \"training_percent\": \"100\", \"start_time\": \"2021-01-28T06:50:15.946821Z\", \"end_time\": \"2021-01-28T06:52:02.889479Z\", \"created_time\": \"2021-01-28T06:50:15.841906Z\", \"created_time_dt\": \"2021-01-28T06:50:15.841906Z\", \"duration\": \"0:01:47\", \"iteration\": \"6\", \"goal\": \"r2_score_max\", \"run_name\": \"MaxAbsScaler, RandomForest\", \"run_properties\": \"copy=True\", \"primary_metric\": 0.28407693, \"best_metric\": 0.49224705}, {\"run_id\": \"AutoML_5b4f94d5-e680-469e-890b-774eb1fb462b_7\", \"run_number\": 34, \"metric\": null, \"status\": \"Completed\", \"run_type\": null, \"training_percent\": \"100\", \"start_time\": \"2021-01-28T06:52:05.826538Z\", \"end_time\": \"2021-01-28T06:52:44.94992Z\", \"created_time\": \"2021-01-28T06:52:05.428603Z\", \"created_time_dt\": \"2021-01-28T06:52:05.428603Z\", \"duration\": \"0:00:39\", \"iteration\": \"7\", \"goal\": \"r2_score_max\", \"run_name\": \"StandardScalerWrapper, XGBoostRegressor\", \"run_properties\": \"<azureml.automl.runtime.shared.model_wrappers.StandardScalerWrapper object at 0x7f83ed645550\", \"primary_metric\": 0.49085014, \"best_metric\": 0.49224705}, {\"run_id\": \"AutoML_5b4f94d5-e680-469e-890b-774eb1fb462b_8\", \"run_number\": 35, \"metric\": null, \"status\": \"Completed\", \"run_type\": null, \"training_percent\": \"100\", \"start_time\": \"2021-01-28T06:52:47.632054Z\", \"end_time\": \"2021-01-28T06:53:59.122426Z\", \"created_time\": \"2021-01-28T06:52:47.240333Z\", \"created_time_dt\": \"2021-01-28T06:52:47.240333Z\", \"duration\": \"0:01:11\", \"iteration\": \"8\", \"goal\": \"r2_score_max\", \"run_name\": \"MaxAbsScaler, ExtremeRandomTrees\", \"run_properties\": \"copy=True\", \"primary_metric\": 0.41170463, \"best_metric\": 0.49224705}, {\"run_id\": \"AutoML_5b4f94d5-e680-469e-890b-774eb1fb462b_9\", \"run_number\": 36, \"metric\": null, \"status\": \"Completed\", \"run_type\": null, \"training_percent\": \"100\", \"start_time\": \"2021-01-28T06:54:01.157817Z\", \"end_time\": \"2021-01-28T06:54:31.127547Z\", \"created_time\": \"2021-01-28T06:54:00.871946Z\", \"created_time_dt\": \"2021-01-28T06:54:00.871946Z\", \"duration\": \"0:00:30\", \"iteration\": \"9\", \"goal\": \"r2_score_max\", \"run_name\": \"StandardScalerWrapper, ElasticNet\", \"run_properties\": \"<azureml.automl.runtime.shared.model_wrappers.StandardScalerWrapper object at 0x7f83ea257208\", \"primary_metric\": 0.20205799, \"best_metric\": 0.49224705}, {\"run_id\": \"AutoML_5b4f94d5-e680-469e-890b-774eb1fb462b_10\", \"run_number\": 37, \"metric\": null, \"status\": \"Completed\", \"run_type\": null, \"training_percent\": \"100\", \"start_time\": \"2021-01-28T06:54:33.405687Z\", \"end_time\": \"2021-01-28T06:55:35.194215Z\", \"created_time\": \"2021-01-28T06:54:33.12449Z\", \"created_time_dt\": \"2021-01-28T06:54:33.12449Z\", \"duration\": \"0:01:02\", \"iteration\": \"10\", \"goal\": \"r2_score_max\", \"run_name\": \"MaxAbsScaler, RandomForest\", \"run_properties\": \"copy=True\", \"primary_metric\": 0.35960398, \"best_metric\": 0.49224705}, {\"run_id\": \"AutoML_5b4f94d5-e680-469e-890b-774eb1fb462b_11\", \"run_number\": 38, \"metric\": null, \"status\": \"Completed\", \"run_type\": null, \"training_percent\": \"100\", \"start_time\": \"2021-01-28T06:55:37.552753Z\", \"end_time\": \"2021-01-28T06:56:05.45003Z\", \"created_time\": \"2021-01-28T06:55:37.255711Z\", \"created_time_dt\": \"2021-01-28T06:55:37.255711Z\", \"duration\": \"0:00:28\", \"iteration\": \"11\", \"goal\": \"r2_score_max\", \"run_name\": \"MaxAbsScaler, RandomForest\", \"run_properties\": \"copy=True\", \"primary_metric\": 0.25830936, \"best_metric\": 0.49224705}, {\"run_id\": \"AutoML_5b4f94d5-e680-469e-890b-774eb1fb462b_12\", \"run_number\": 39, \"metric\": null, \"status\": \"Completed\", \"run_type\": null, \"training_percent\": \"100\", \"start_time\": \"2021-01-28T06:56:07.081973Z\", \"end_time\": \"2021-01-28T06:56:36.862654Z\", \"created_time\": \"2021-01-28T06:56:06.996627Z\", \"created_time_dt\": \"2021-01-28T06:56:06.996627Z\", \"duration\": \"0:00:29\", \"iteration\": \"12\", \"goal\": \"r2_score_max\", \"run_name\": \"StandardScalerWrapper, XGBoostRegressor\", \"run_properties\": \"<azureml.automl.runtime.shared.model_wrappers.StandardScalerWrapper object at 0x7f83ea25eef0\", \"primary_metric\": 0.47818438, \"best_metric\": 0.49224705}, {\"run_id\": \"AutoML_5b4f94d5-e680-469e-890b-774eb1fb462b_13\", \"run_number\": 40, \"metric\": null, \"status\": \"Completed\", \"run_type\": null, \"training_percent\": \"100\", \"start_time\": \"2021-01-28T06:56:38.47252Z\", \"end_time\": \"2021-01-28T06:57:11.890185Z\", \"created_time\": \"2021-01-28T06:56:38.382344Z\", \"created_time_dt\": \"2021-01-28T06:56:38.382344Z\", \"duration\": \"0:00:33\", \"iteration\": \"13\", \"goal\": \"r2_score_max\", \"run_name\": \"MaxAbsScaler, ExtremeRandomTrees\", \"run_properties\": \"copy=True\", \"primary_metric\": 0.42310908, \"best_metric\": 0.49224705}, {\"run_id\": \"AutoML_5b4f94d5-e680-469e-890b-774eb1fb462b_14\", \"run_number\": 41, \"metric\": null, \"status\": \"Completed\", \"run_type\": null, \"training_percent\": \"100\", \"start_time\": \"2021-01-28T06:57:13.96579Z\", \"end_time\": \"2021-01-28T06:57:42.945765Z\", \"created_time\": \"2021-01-28T06:57:13.687067Z\", \"created_time_dt\": \"2021-01-28T06:57:13.687067Z\", \"duration\": \"0:00:29\", \"iteration\": \"14\", \"goal\": \"r2_score_max\", \"run_name\": \"MaxAbsScaler, ExtremeRandomTrees\", \"run_properties\": \"copy=True\", \"primary_metric\": 0.20376005, \"best_metric\": 0.49224705}, {\"run_id\": \"AutoML_5b4f94d5-e680-469e-890b-774eb1fb462b_15\", \"run_number\": 42, \"metric\": null, \"status\": \"Completed\", \"run_type\": null, \"training_percent\": \"100\", \"start_time\": \"2021-01-28T06:57:44.411981Z\", \"end_time\": \"2021-01-28T06:58:48.036129Z\", \"created_time\": \"2021-01-28T06:57:44.333284Z\", \"created_time_dt\": \"2021-01-28T06:57:44.333284Z\", \"duration\": \"0:01:03\", \"iteration\": \"15\", \"goal\": \"r2_score_max\", \"run_name\": \"MaxAbsScaler, ExtremeRandomTrees\", \"run_properties\": \"copy=True\", \"primary_metric\": 0.38370094, \"best_metric\": 0.49224705}, {\"run_id\": \"AutoML_5b4f94d5-e680-469e-890b-774eb1fb462b_16\", \"run_number\": 43, \"metric\": null, \"status\": \"Completed\", \"run_type\": null, \"training_percent\": \"100\", \"start_time\": \"2021-01-28T06:58:49.579567Z\", \"end_time\": \"2021-01-28T06:59:24.82318Z\", \"created_time\": \"2021-01-28T06:58:49.46184Z\", \"created_time_dt\": \"2021-01-28T06:58:49.46184Z\", \"duration\": \"0:00:35\", \"iteration\": \"16\", \"goal\": \"r2_score_max\", \"run_name\": \"MaxAbsScaler, ElasticNet\", \"run_properties\": \"copy=True\", \"primary_metric\": 0.20287893, \"best_metric\": 0.49224705}, {\"run_id\": \"AutoML_5b4f94d5-e680-469e-890b-774eb1fb462b_17\", \"run_number\": 44, \"metric\": null, \"status\": \"Completed\", \"run_type\": null, \"training_percent\": \"100\", \"start_time\": \"2021-01-28T06:59:26.35372Z\", \"end_time\": \"2021-01-28T06:59:54.513571Z\", \"created_time\": \"2021-01-28T06:59:26.250729Z\", \"created_time_dt\": \"2021-01-28T06:59:26.250729Z\", \"duration\": \"0:00:28\", \"iteration\": \"17\", \"goal\": \"r2_score_max\", \"run_name\": \"MaxAbsScaler, RandomForest\", \"run_properties\": \"copy=True\", \"primary_metric\": 0.21731364, \"best_metric\": 0.49224705}, {\"run_id\": \"AutoML_5b4f94d5-e680-469e-890b-774eb1fb462b_18\", \"run_number\": 45, \"metric\": null, \"status\": \"Completed\", \"run_type\": null, \"training_percent\": \"100\", \"start_time\": \"2021-01-28T06:59:55.981133Z\", \"end_time\": \"2021-01-28T07:00:26.024835Z\", \"created_time\": \"2021-01-28T06:59:55.875112Z\", \"created_time_dt\": \"2021-01-28T06:59:55.875112Z\", \"duration\": \"0:00:30\", \"iteration\": \"18\", \"goal\": \"r2_score_max\", \"run_name\": \"MaxAbsScaler, RandomForest\", \"run_properties\": \"copy=True\", \"primary_metric\": 0.38600364, \"best_metric\": 0.49224705}, {\"run_id\": \"AutoML_5b4f94d5-e680-469e-890b-774eb1fb462b_19\", \"run_number\": 46, \"metric\": null, \"status\": \"Completed\", \"run_type\": null, \"training_percent\": \"100\", \"start_time\": \"2021-01-28T07:00:27.609236Z\", \"end_time\": \"2021-01-28T07:01:58.293408Z\", \"created_time\": \"2021-01-28T07:00:27.517408Z\", \"created_time_dt\": \"2021-01-28T07:00:27.517408Z\", \"duration\": \"0:01:30\", \"iteration\": \"19\", \"goal\": \"r2_score_max\", \"run_name\": \"SparseNormalizer, XGBoostRegressor\", \"run_properties\": \"<azureml.automl.runtime.shared.model_wrappers.SparseNormalizer object at 0x7f83ea25e9e8\", \"primary_metric\": 0.44608291, \"best_metric\": 0.49224705}, {\"run_id\": \"AutoML_5b4f94d5-e680-469e-890b-774eb1fb462b_20\", \"run_number\": 47, \"metric\": null, \"status\": \"Completed\", \"run_type\": null, \"training_percent\": \"100\", \"start_time\": \"2021-01-28T07:02:01.067563Z\", \"end_time\": \"2021-01-28T07:02:38.67689Z\", \"created_time\": \"2021-01-28T07:02:00.944456Z\", \"created_time_dt\": \"2021-01-28T07:02:00.944456Z\", \"duration\": \"0:00:37\", \"iteration\": \"20\", \"goal\": \"r2_score_max\", \"run_name\": \"StandardScalerWrapper, RandomForest\", \"run_properties\": \"<azureml.automl.runtime.shared.model_wrappers.StandardScalerWrapper object at 0x7f83eb5c27b8\", \"primary_metric\": 0.36391055, \"best_metric\": 0.49224705}, {\"run_id\": \"AutoML_5b4f94d5-e680-469e-890b-774eb1fb462b_21\", \"run_number\": 48, \"metric\": null, \"status\": \"Completed\", \"run_type\": null, \"training_percent\": \"100\", \"start_time\": \"2021-01-28T07:02:40.252804Z\", \"end_time\": \"2021-01-28T07:03:29.020209Z\", \"created_time\": \"2021-01-28T07:02:40.134566Z\", \"created_time_dt\": \"2021-01-28T07:02:40.134566Z\", \"duration\": \"0:00:48\", \"iteration\": \"21\", \"goal\": \"r2_score_max\", \"run_name\": \"MaxAbsScaler, ElasticNet\", \"run_properties\": \"copy=True\", \"primary_metric\": 0.20271095, \"best_metric\": 0.49224705}, {\"run_id\": \"AutoML_5b4f94d5-e680-469e-890b-774eb1fb462b_22\", \"run_number\": 49, \"metric\": null, \"status\": \"Completed\", \"run_type\": null, \"training_percent\": \"100\", \"start_time\": \"2021-01-28T07:03:29.372857Z\", \"end_time\": \"2021-01-28T07:04:13.374546Z\", \"created_time\": \"2021-01-28T07:03:29.275822Z\", \"created_time_dt\": \"2021-01-28T07:03:29.275822Z\", \"duration\": \"0:00:44\", \"iteration\": \"22\", \"goal\": \"r2_score_max\", \"run_name\": \"VotingEnsemble\", \"run_properties\": \"estimators=[('0',\\n                                          Pipeline(memory=None,\\n                                                   steps=[('maxabsscaler',\\n                                                           MaxAbsScaler(copy=True\", \"primary_metric\": 0.50311068, \"best_metric\": 0.50311068}, {\"run_id\": \"AutoML_5b4f94d5-e680-469e-890b-774eb1fb462b_23\", \"run_number\": 50, \"metric\": null, \"status\": \"Completed\", \"run_type\": null, \"training_percent\": \"100\", \"start_time\": \"2021-01-28T07:04:13.70337Z\", \"end_time\": \"2021-01-28T07:04:56.885291Z\", \"created_time\": \"2021-01-28T07:04:13.605518Z\", \"created_time_dt\": \"2021-01-28T07:04:13.605518Z\", \"duration\": \"0:00:43\", \"iteration\": \"23\", \"goal\": \"r2_score_max\", \"run_name\": \"StackEnsemble\", \"run_properties\": \"base_learners=[('0',\\n                                       Pipeline(memory=None,\\n                                                steps=[('maxabsscaler',\\n                                                        MaxAbsScaler(copy=True\", \"primary_metric\": 0.50005874, \"best_metric\": 0.50311068}], \"children_metrics\": {\"categories\": [0], \"series\": {\"normalized_median_absolute_error\": [{\"categories\": [\"0\", \"1\", \"2\", \"3\", \"4\", \"5\", \"6\", \"7\", \"8\", \"9\", \"10\", \"11\", \"12\", \"13\", \"14\", \"15\", \"16\", \"17\", \"18\", \"19\", \"20\", \"21\", \"22\", \"23\"], \"mode\": \"markers\", \"name\": \"normalized_median_absolute_error\", \"stepped\": false, \"type\": \"scatter\", \"data\": [0.0031683028879188856, 0.003981265406395503, 0.004349136365217539, 0.00375031304821573, 0.003124763147439083, 0.0062633439814927935, 0.0034241466408196663, 0.0031911909511380446, 0.003186427184750812, 0.006348170165213954, 0.006963648433410491, 0.008194210301814529, 0.0023331571943818164, 0.0032184717486102034, 0.003535934355027002, 0.0032187297833548858, 0.00623291005350805, 0.0036320584619753044, 0.003297065516922631, 0.003152284910362499, 0.00585379165712873, 0.006241402763940293, 0.0029812170226194193, 0.003130717096652549]}, {\"categories\": [\"0\", \"1\", \"2\", \"3\", \"4\", \"5\", \"6\", \"7\", \"8\", \"9\", \"10\", \"11\", \"12\", \"13\", \"14\", \"15\", \"16\", \"17\", \"18\", \"19\", \"20\", \"21\", \"22\", \"23\"], \"mode\": \"lines\", \"name\": \"normalized_median_absolute_error_min\", \"stepped\": true, \"type\": \"scatter\", \"data\": [0.0031683028879188856, 0.0031683028879188856, 0.0031683028879188856, 0.0031683028879188856, 0.003124763147439083, 0.003124763147439083, 0.003124763147439083, 0.003124763147439083, 0.003124763147439083, 0.003124763147439083, 0.003124763147439083, 0.003124763147439083, 0.0023331571943818164, 0.0023331571943818164, 0.0023331571943818164, 0.0023331571943818164, 0.0023331571943818164, 0.0023331571943818164, 0.0023331571943818164, 0.0023331571943818164, 0.0023331571943818164, 0.0023331571943818164, 0.0023331571943818164, 0.0023331571943818164]}], \"normalized_root_mean_squared_log_error\": [{\"categories\": [\"0\", \"1\", \"2\", \"3\", \"4\", \"5\", \"6\", \"7\", \"8\", \"9\", \"10\", \"11\", \"12\", \"13\", \"14\", \"15\", \"16\", \"17\", \"18\", \"19\", \"20\", \"21\", \"22\", \"23\"], \"mode\": \"markers\", \"name\": \"normalized_root_mean_squared_log_error\", \"stepped\": false, \"type\": \"scatter\", \"data\": [NaN, NaN, NaN, 0.053786329307837666, NaN, NaN, 0.054434943954443836, NaN, 0.05059775136543781, NaN, 0.05667802804396471, 0.06132150368566802, 0.047385410435553964, 0.05026837342754451, 0.057248504731074824, 0.05120989775828403, NaN, 0.05664273366772977, 0.05163441353227568, NaN, 0.05537256317477935, NaN, 0.04800541705810593, 0.04780056284644263]}, {\"categories\": [\"0\", \"1\", \"2\", \"3\", \"4\", \"5\", \"6\", \"7\", \"8\", \"9\", \"10\", \"11\", \"12\", \"13\", \"14\", \"15\", \"16\", \"17\", \"18\", \"19\", \"20\", \"21\", \"22\", \"23\"], \"mode\": \"lines\", \"name\": \"normalized_root_mean_squared_log_error_min\", \"stepped\": true, \"type\": \"scatter\", \"data\": [NaN, NaN, NaN, 0.053786329307837666, 0.053786329307837666, 0.053786329307837666, 0.053786329307837666, 0.053786329307837666, 0.05059775136543781, 0.05059775136543781, 0.05059775136543781, 0.05059775136543781, 0.047385410435553964, 0.047385410435553964, 0.047385410435553964, 0.047385410435553964, 0.047385410435553964, 0.047385410435553964, 0.047385410435553964, 0.047385410435553964, 0.047385410435553964, 0.047385410435553964, 0.047385410435553964, 0.047385410435553964]}], \"r2_score\": [{\"categories\": [\"0\", \"1\", \"2\", \"3\", \"4\", \"5\", \"6\", \"7\", \"8\", \"9\", \"10\", \"11\", \"12\", \"13\", \"14\", \"15\", \"16\", \"17\", \"18\", \"19\", \"20\", \"21\", \"22\", \"23\"], \"mode\": \"markers\", \"name\": \"r2_score\", \"stepped\": false, \"type\": \"scatter\", \"data\": [0.49224704583803885, 0.4613257628349616, 0.45540345963028556, 0.31476839453946703, 0.4789336672878175, 0.20215277072301316, 0.2840769282351241, 0.4908501374892314, 0.4117046280607417, 0.20205799017741685, 0.35960397778745756, 0.25830935891623824, 0.47818438065683083, 0.42310908495884975, 0.20376005149012696, 0.3837009410150627, 0.20287892844870303, 0.2173136377846343, 0.3860036431134133, 0.4460829105953113, 0.3639105503766618, 0.2027109452917061, 0.5031106785977179, 0.5000587445155004]}, {\"categories\": [\"0\", \"1\", \"2\", \"3\", \"4\", \"5\", \"6\", \"7\", \"8\", \"9\", \"10\", \"11\", \"12\", \"13\", \"14\", \"15\", \"16\", \"17\", \"18\", \"19\", \"20\", \"21\", \"22\", \"23\"], \"mode\": \"lines\", \"name\": \"r2_score_max\", \"stepped\": true, \"type\": \"scatter\", \"data\": [0.49224704583803885, 0.49224704583803885, 0.49224704583803885, 0.49224704583803885, 0.49224704583803885, 0.49224704583803885, 0.49224704583803885, 0.49224704583803885, 0.49224704583803885, 0.49224704583803885, 0.49224704583803885, 0.49224704583803885, 0.49224704583803885, 0.49224704583803885, 0.49224704583803885, 0.49224704583803885, 0.49224704583803885, 0.49224704583803885, 0.49224704583803885, 0.49224704583803885, 0.49224704583803885, 0.49224704583803885, 0.5031106785977179, 0.5031106785977179]}], \"mean_absolute_error\": [{\"categories\": [\"0\", \"1\", \"2\", \"3\", \"4\", \"5\", \"6\", \"7\", \"8\", \"9\", \"10\", \"11\", \"12\", \"13\", \"14\", \"15\", \"16\", \"17\", \"18\", \"19\", \"20\", \"21\", \"22\", \"23\"], \"mode\": \"markers\", \"name\": \"mean_absolute_error\", \"stepped\": false, \"type\": \"scatter\", \"data\": [129.39969001413218, 138.76653448176842, 142.19337422642536, 151.7648866303458, 129.60658138205815, 181.0628005944145, 155.37676937933853, 129.28296555577973, 140.0506515069441, 179.84227321813327, 153.15095707898405, 167.41767951450427, 125.0264530500243, 138.26426633137294, 166.52532884633126, 143.65361913097854, 180.78279473369597, 164.05588435616033, 143.7427506463, 130.50483752843877, 150.8599172196554, 180.90596345588668, 126.72290595249338, 128.5159257685674]}, {\"categories\": [\"0\", \"1\", \"2\", \"3\", \"4\", \"5\", \"6\", \"7\", \"8\", \"9\", \"10\", \"11\", \"12\", \"13\", \"14\", \"15\", \"16\", \"17\", \"18\", \"19\", \"20\", \"21\", \"22\", \"23\"], \"mode\": \"lines\", \"name\": \"mean_absolute_error_min\", \"stepped\": true, \"type\": \"scatter\", \"data\": [129.39969001413218, 129.39969001413218, 129.39969001413218, 129.39969001413218, 129.39969001413218, 129.39969001413218, 129.39969001413218, 129.28296555577973, 129.28296555577973, 129.28296555577973, 129.28296555577973, 129.28296555577973, 125.0264530500243, 125.0264530500243, 125.0264530500243, 125.0264530500243, 125.0264530500243, 125.0264530500243, 125.0264530500243, 125.0264530500243, 125.0264530500243, 125.0264530500243, 125.0264530500243, 125.0264530500243]}], \"root_mean_squared_error\": [{\"categories\": [\"0\", \"1\", \"2\", \"3\", \"4\", \"5\", \"6\", \"7\", \"8\", \"9\", \"10\", \"11\", \"12\", \"13\", \"14\", \"15\", \"16\", \"17\", \"18\", \"19\", \"20\", \"21\", \"22\", \"23\"], \"mode\": \"markers\", \"name\": \"root_mean_squared_error\", \"stepped\": false, \"type\": \"scatter\", \"data\": [381.93713001906167, 393.4660419457951, 395.4282847302527, 444.18922151225894, 387.1101480593452, 479.2986722957683, 453.97052849449875, 382.49846013674943, 411.49855115486616, 479.3283090824636, 429.3638391302966, 462.20965251243433, 387.2720016846259, 407.32415960316484, 478.8544006654691, 421.3480645005945, 479.0822025241552, 474.7594096221155, 420.57911395326545, 399.05009045043454, 427.86681432782296, 479.1311800876565, 377.85460168257146, 379.0113883083182]}, {\"categories\": [\"0\", \"1\", \"2\", \"3\", \"4\", \"5\", \"6\", \"7\", \"8\", \"9\", \"10\", \"11\", \"12\", \"13\", \"14\", \"15\", \"16\", \"17\", \"18\", \"19\", \"20\", \"21\", \"22\", \"23\"], \"mode\": \"lines\", \"name\": \"root_mean_squared_error_min\", \"stepped\": true, \"type\": \"scatter\", \"data\": [381.93713001906167, 381.93713001906167, 381.93713001906167, 381.93713001906167, 381.93713001906167, 381.93713001906167, 381.93713001906167, 381.93713001906167, 381.93713001906167, 381.93713001906167, 381.93713001906167, 381.93713001906167, 381.93713001906167, 381.93713001906167, 381.93713001906167, 381.93713001906167, 381.93713001906167, 381.93713001906167, 381.93713001906167, 381.93713001906167, 381.93713001906167, 381.93713001906167, 377.85460168257146, 377.85460168257146]}], \"normalized_root_mean_squared_error\": [{\"categories\": [\"0\", \"1\", \"2\", \"3\", \"4\", \"5\", \"6\", \"7\", \"8\", \"9\", \"10\", \"11\", \"12\", \"13\", \"14\", \"15\", \"16\", \"17\", \"18\", \"19\", \"20\", \"21\", \"22\", \"23\"], \"mode\": \"markers\", \"name\": \"normalized_root_mean_squared_error\", \"stepped\": false, \"type\": \"scatter\", \"data\": [0.046631059120790054, 0.0480386346912172, 0.04827820673619438, 0.054231474819225134, 0.04726263770037809, 0.05851802029099579, 0.05542568367800943, 0.04669959243647704, 0.0502402404973414, 0.05852163867382353, 0.052421430107659366, 0.056431605985601534, 0.047282398559891824, 0.049730585153722424, 0.05846377875481118, 0.0514427767344251, 0.058491591295424056, 0.05796381749303966, 0.05134889484755101, 0.04872039636215033, 0.05223865695840846, 0.05849757101166455, 0.04613261944248049, 0.04627385259656699]}, {\"categories\": [\"0\", \"1\", \"2\", \"3\", \"4\", \"5\", \"6\", \"7\", \"8\", \"9\", \"10\", \"11\", \"12\", \"13\", \"14\", \"15\", \"16\", \"17\", \"18\", \"19\", \"20\", \"21\", \"22\", \"23\"], \"mode\": \"lines\", \"name\": \"normalized_root_mean_squared_error_min\", \"stepped\": true, \"type\": \"scatter\", \"data\": [0.046631059120790054, 0.046631059120790054, 0.046631059120790054, 0.046631059120790054, 0.046631059120790054, 0.046631059120790054, 0.046631059120790054, 0.046631059120790054, 0.046631059120790054, 0.046631059120790054, 0.046631059120790054, 0.046631059120790054, 0.046631059120790054, 0.046631059120790054, 0.046631059120790054, 0.046631059120790054, 0.046631059120790054, 0.046631059120790054, 0.046631059120790054, 0.046631059120790054, 0.046631059120790054, 0.046631059120790054, 0.04613261944248049, 0.04613261944248049]}], \"root_mean_squared_log_error\": [{\"categories\": [\"0\", \"1\", \"2\", \"3\", \"4\", \"5\", \"6\", \"7\", \"8\", \"9\", \"10\", \"11\", \"12\", \"13\", \"14\", \"15\", \"16\", \"17\", \"18\", \"19\", \"20\", \"21\", \"22\", \"23\"], \"mode\": \"markers\", \"name\": \"root_mean_squared_log_error\", \"stepped\": false, \"type\": \"scatter\", \"data\": [NaN, NaN, NaN, 0.4846614357452217, NaN, NaN, 0.4905060157698287, NaN, 0.4559295854138054, NaN, 0.5107181471666823, 0.5525598865141553, 0.4269836099732807, 0.45296160477009, 0.5158586364655807, 0.46144555487037664, NaN, 0.5104001142523733, 0.46527080985927394, NaN, 0.4989547774413918, NaN, 0.4325704069108028, 0.43072449294677395]}, {\"categories\": [\"0\", \"1\", \"2\", \"3\", \"4\", \"5\", \"6\", \"7\", \"8\", \"9\", \"10\", \"11\", \"12\", \"13\", \"14\", \"15\", \"16\", \"17\", \"18\", \"19\", \"20\", \"21\", \"22\", \"23\"], \"mode\": \"lines\", \"name\": \"root_mean_squared_log_error_min\", \"stepped\": true, \"type\": \"scatter\", \"data\": [NaN, NaN, NaN, 0.4846614357452217, 0.4846614357452217, 0.4846614357452217, 0.4846614357452217, 0.4846614357452217, 0.4559295854138054, 0.4559295854138054, 0.4559295854138054, 0.4559295854138054, 0.4269836099732807, 0.4269836099732807, 0.4269836099732807, 0.4269836099732807, 0.4269836099732807, 0.4269836099732807, 0.4269836099732807, 0.4269836099732807, 0.4269836099732807, 0.4269836099732807, 0.4269836099732807, 0.4269836099732807]}], \"median_absolute_error\": [{\"categories\": [\"0\", \"1\", \"2\", \"3\", \"4\", \"5\", \"6\", \"7\", \"8\", \"9\", \"10\", \"11\", \"12\", \"13\", \"14\", \"15\", \"16\", \"17\", \"18\", \"19\", \"20\", \"21\", \"22\", \"23\"], \"mode\": \"markers\", \"name\": \"median_absolute_error\", \"stepped\": false, \"type\": \"scatter\", \"data\": [25.950354438836555, 32.60901879204645, 35.622108798556866, 30.717376557933232, 25.593737114800348, 51.30064960388123, 28.04587254540824, 26.13782179090712, 26.098803606539743, 51.99542835803751, 57.036574919499195, 67.11563546821378, 19.109996202256944, 26.361268345362543, 28.961482860523414, 26.36338180904291, 51.05137696609725, 29.74879857296263, 27.00499977399845, 25.819157324896924, 47.946163510072864, 51.12093750170877, 24.41800583241699, 25.64250363046065]}, {\"categories\": [\"0\", \"1\", \"2\", \"3\", \"4\", \"5\", \"6\", \"7\", \"8\", \"9\", \"10\", \"11\", \"12\", \"13\", \"14\", \"15\", \"16\", \"17\", \"18\", \"19\", \"20\", \"21\", \"22\", \"23\"], \"mode\": \"lines\", \"name\": \"median_absolute_error_min\", \"stepped\": true, \"type\": \"scatter\", \"data\": [25.950354438836555, 25.950354438836555, 25.950354438836555, 25.950354438836555, 25.593737114800348, 25.593737114800348, 25.593737114800348, 25.593737114800348, 25.593737114800348, 25.593737114800348, 25.593737114800348, 25.593737114800348, 19.109996202256944, 19.109996202256944, 19.109996202256944, 19.109996202256944, 19.109996202256944, 19.109996202256944, 19.109996202256944, 19.109996202256944, 19.109996202256944, 19.109996202256944, 19.109996202256944, 19.109996202256944]}], \"explained_variance\": [{\"categories\": [\"0\", \"1\", \"2\", \"3\", \"4\", \"5\", \"6\", \"7\", \"8\", \"9\", \"10\", \"11\", \"12\", \"13\", \"14\", \"15\", \"16\", \"17\", \"18\", \"19\", \"20\", \"21\", \"22\", \"23\"], \"mode\": \"markers\", \"name\": \"explained_variance\", \"stepped\": false, \"type\": \"scatter\", \"data\": [0.49226682781996706, 0.4613664978679588, 0.45544773227244556, 0.31486195898204467, 0.47895736994163784, 0.20226233163303864, 0.2842053487920115, 0.49086270109506086, 0.4117955670582689, 0.20217292166503883, 0.35970673541336584, 0.258446899323092, 0.4802214521012614, 0.4231888003331208, 0.20387713013010642, 0.3838116600825134, 0.20299232218459515, 0.21746261401196287, 0.3861002235436783, 0.44611413022610763, 0.3640218549367582, 0.20282306228829927, 0.5031535130951525, 0.5001062574881853]}, {\"categories\": [\"0\", \"1\", \"2\", \"3\", \"4\", \"5\", \"6\", \"7\", \"8\", \"9\", \"10\", \"11\", \"12\", \"13\", \"14\", \"15\", \"16\", \"17\", \"18\", \"19\", \"20\", \"21\", \"22\", \"23\"], \"mode\": \"lines\", \"name\": \"explained_variance_max\", \"stepped\": true, \"type\": \"scatter\", \"data\": [0.49226682781996706, 0.49226682781996706, 0.49226682781996706, 0.49226682781996706, 0.49226682781996706, 0.49226682781996706, 0.49226682781996706, 0.49226682781996706, 0.49226682781996706, 0.49226682781996706, 0.49226682781996706, 0.49226682781996706, 0.49226682781996706, 0.49226682781996706, 0.49226682781996706, 0.49226682781996706, 0.49226682781996706, 0.49226682781996706, 0.49226682781996706, 0.49226682781996706, 0.49226682781996706, 0.49226682781996706, 0.5031535130951525, 0.5031535130951525]}], \"normalized_mean_absolute_error\": [{\"categories\": [\"0\", \"1\", \"2\", \"3\", \"4\", \"5\", \"6\", \"7\", \"8\", \"9\", \"10\", \"11\", \"12\", \"13\", \"14\", \"15\", \"16\", \"17\", \"18\", \"19\", \"20\", \"21\", \"22\", \"23\"], \"mode\": \"markers\", \"name\": \"normalized_mean_absolute_error\", \"stepped\": false, \"type\": \"scatter\", \"data\": [0.01579852839905813, 0.016942135144293376, 0.017360521193124492, 0.018529116036889264, 0.01582378795842293, 0.022106125577978197, 0.01897009415807176, 0.015784277401471165, 0.017098914185168488, 0.021957110256427572, 0.018698342665975583, 0.020440180065543004, 0.01526459583426046, 0.016880812759076703, 0.020331232143244962, 0.017538803850460413, 0.022071939402246388, 0.020029735370697813, 0.017549685999991863, 0.015933456886043026, 0.01841862748059125, 0.02208697718599373, 0.015471717345559253, 0.015690628801075305]}, {\"categories\": [\"0\", \"1\", \"2\", \"3\", \"4\", \"5\", \"6\", \"7\", \"8\", \"9\", \"10\", \"11\", \"12\", \"13\", \"14\", \"15\", \"16\", \"17\", \"18\", \"19\", \"20\", \"21\", \"22\", \"23\"], \"mode\": \"lines\", \"name\": \"normalized_mean_absolute_error_min\", \"stepped\": true, \"type\": \"scatter\", \"data\": [0.01579852839905813, 0.01579852839905813, 0.01579852839905813, 0.01579852839905813, 0.01579852839905813, 0.01579852839905813, 0.01579852839905813, 0.015784277401471165, 0.015784277401471165, 0.015784277401471165, 0.015784277401471165, 0.015784277401471165, 0.01526459583426046, 0.01526459583426046, 0.01526459583426046, 0.01526459583426046, 0.01526459583426046, 0.01526459583426046, 0.01526459583426046, 0.01526459583426046, 0.01526459583426046, 0.01526459583426046, 0.01526459583426046, 0.01526459583426046]}], \"spearman_correlation\": [{\"categories\": [\"0\", \"1\", \"2\", \"3\", \"4\", \"5\", \"6\", \"7\", \"8\", \"9\", \"10\", \"11\", \"12\", \"13\", \"14\", \"15\", \"16\", \"17\", \"18\", \"19\", \"20\", \"21\", \"22\", \"23\"], \"mode\": \"markers\", \"name\": \"spearman_correlation\", \"stepped\": false, \"type\": \"scatter\", \"data\": [0.8117220814512157, 0.7592650728056624, 0.7246134389660702, 0.8204384206647263, 0.8123692560161485, 0.6746838502279653, 0.81680349441951, 0.8247984249213128, 0.8300928090199943, 0.675887110278023, 0.8150086107739859, 0.7857231155830515, 0.8361816330627222, 0.8332742757493635, 0.7957548148703332, 0.8266369678223257, 0.6757369738100696, 0.8024648318127269, 0.8232436562383777, 0.8063059403828982, 0.8172927708048304, 0.6753009294874929, 0.822950582687059, 0.8242713307743695]}, {\"categories\": [\"0\", \"1\", \"2\", \"3\", \"4\", \"5\", \"6\", \"7\", \"8\", \"9\", \"10\", \"11\", \"12\", \"13\", \"14\", \"15\", \"16\", \"17\", \"18\", \"19\", \"20\", \"21\", \"22\", \"23\"], \"mode\": \"lines\", \"name\": \"spearman_correlation_max\", \"stepped\": true, \"type\": \"scatter\", \"data\": [0.8117220814512157, 0.8117220814512157, 0.8117220814512157, 0.8204384206647263, 0.8204384206647263, 0.8204384206647263, 0.8204384206647263, 0.8247984249213128, 0.8300928090199943, 0.8300928090199943, 0.8300928090199943, 0.8300928090199943, 0.8361816330627222, 0.8361816330627222, 0.8361816330627222, 0.8361816330627222, 0.8361816330627222, 0.8361816330627222, 0.8361816330627222, 0.8361816330627222, 0.8361816330627222, 0.8361816330627222, 0.8361816330627222, 0.8361816330627222]}], \"mean_absolute_percentage_error\": [{\"categories\": [\"0\", \"1\", \"2\", \"3\", \"4\", \"5\", \"6\", \"7\", \"8\", \"9\", \"10\", \"11\", \"12\", \"13\", \"14\", \"15\", \"16\", \"17\", \"18\", \"19\", \"20\", \"21\", \"22\", \"23\"], \"mode\": \"markers\", \"name\": \"mean_absolute_percentage_error\", \"stepped\": false, \"type\": \"scatter\", \"data\": [93.05316389978356, 106.94740254104136, 124.81039405486007, 105.25475590547269, 89.42700393149948, 137.9101880325483, 96.04394644624534, 88.9935846854085, 94.88667090847605, 130.24598049321128, 135.69550555957528, 150.07079957472016, 83.1649898902733, 93.64519197626282, 100.50920293749213, 95.6036632395073, 131.87262254804466, 100.85786814147649, 94.9810086964356, 93.9174909887909, 131.36882910673447, 132.77642143965474, 89.88796114656861, 89.31588325851446]}, {\"categories\": [\"0\", \"1\", \"2\", \"3\", \"4\", \"5\", \"6\", \"7\", \"8\", \"9\", \"10\", \"11\", \"12\", \"13\", \"14\", \"15\", \"16\", \"17\", \"18\", \"19\", \"20\", \"21\", \"22\", \"23\"], \"mode\": \"lines\", \"name\": \"mean_absolute_percentage_error_min\", \"stepped\": true, \"type\": \"scatter\", \"data\": [93.05316389978356, 93.05316389978356, 93.05316389978356, 93.05316389978356, 89.42700393149948, 89.42700393149948, 89.42700393149948, 88.9935846854085, 88.9935846854085, 88.9935846854085, 88.9935846854085, 88.9935846854085, 83.1649898902733, 83.1649898902733, 83.1649898902733, 83.1649898902733, 83.1649898902733, 83.1649898902733, 83.1649898902733, 83.1649898902733, 83.1649898902733, 83.1649898902733, 83.1649898902733, 83.1649898902733]}]}, \"metricName\": null, \"primaryMetricName\": \"r2_score\", \"showLegend\": false}, \"run_metrics\": [{\"name\": \"root_mean_squared_log_error\", \"run_id\": \"AutoML_5b4f94d5-e680-469e-890b-774eb1fb462b\", \"categories\": [0], \"series\": [{\"data\": [0.4325704069108028]}]}, {\"name\": \"normalized_root_mean_squared_log_error\", \"run_id\": \"AutoML_5b4f94d5-e680-469e-890b-774eb1fb462b\", \"categories\": [0], \"series\": [{\"data\": [0.04800541705810593]}]}, {\"name\": \"explained_variance\", \"run_id\": \"AutoML_5b4f94d5-e680-469e-890b-774eb1fb462b\", \"categories\": [0], \"series\": [{\"data\": [0.5031535130951525]}]}, {\"name\": \"root_mean_squared_error\", \"run_id\": \"AutoML_5b4f94d5-e680-469e-890b-774eb1fb462b\", \"categories\": [0], \"series\": [{\"data\": [377.85460168257146]}]}, {\"name\": \"spearman_correlation\", \"run_id\": \"AutoML_5b4f94d5-e680-469e-890b-774eb1fb462b\", \"categories\": [0], \"series\": [{\"data\": [0.822950582687059]}]}, {\"name\": \"r2_score\", \"run_id\": \"AutoML_5b4f94d5-e680-469e-890b-774eb1fb462b\", \"categories\": [0], \"series\": [{\"data\": [0.5031106785977179]}]}, {\"name\": \"mean_absolute_percentage_error\", \"run_id\": \"AutoML_5b4f94d5-e680-469e-890b-774eb1fb462b\", \"categories\": [0], \"series\": [{\"data\": [89.88796114656861]}]}, {\"name\": \"normalized_mean_absolute_error\", \"run_id\": \"AutoML_5b4f94d5-e680-469e-890b-774eb1fb462b\", \"categories\": [0], \"series\": [{\"data\": [0.015471717345559253]}]}, {\"name\": \"normalized_median_absolute_error\", \"run_id\": \"AutoML_5b4f94d5-e680-469e-890b-774eb1fb462b\", \"categories\": [0], \"series\": [{\"data\": [0.0029812170226194193]}]}, {\"name\": \"median_absolute_error\", \"run_id\": \"AutoML_5b4f94d5-e680-469e-890b-774eb1fb462b\", \"categories\": [0], \"series\": [{\"data\": [24.41800583241699]}]}, {\"name\": \"normalized_root_mean_squared_error\", \"run_id\": \"AutoML_5b4f94d5-e680-469e-890b-774eb1fb462b\", \"categories\": [0], \"series\": [{\"data\": [0.04613261944248049]}]}, {\"name\": \"mean_absolute_error\", \"run_id\": \"AutoML_5b4f94d5-e680-469e-890b-774eb1fb462b\", \"categories\": [0], \"series\": [{\"data\": [126.72290595249338]}]}], \"run_logs\": \"\\nRun is completed.\", \"graph\": {}, \"widget_settings\": {\"childWidgetDisplay\": \"popup\", \"send_telemetry\": false, \"log_level\": \"INFO\", \"sdk_version\": \"1.20.0\"}, \"loading\": false}"
          },
          "metadata": {}
        },
        {
          "output_type": "stream",
          "name": "stdout",
          "text": [
            "DURATION: Time taken for the current iteration.\n",
            "METRIC: The result of computing score on the fitted pipeline.\n",
            "BEST: The best observed score thus far.\n",
            "****************************************************************************************************\n",
            "\n",
            " ITERATION   PIPELINE                                       DURATION      METRIC      BEST\n",
            "         0   MaxAbsScaler LightGBM                          0:00:29       0.4922    0.4922\n",
            "         1   MaxAbsScaler XGBoostRegressor                  0:00:29       0.4613    0.4922\n",
            "         2   SparseNormalizer XGBoostRegressor              0:00:42       0.4554    0.4922\n",
            "         3   MaxAbsScaler RandomForest                      0:01:08       0.3148    0.4922\n",
            "         4   StandardScalerWrapper XGBoostRegressor         0:00:39       0.4789    0.4922\n",
            "         5   MaxAbsScaler ElasticNet                        0:00:39       0.2022    0.4922\n",
            "         6   MaxAbsScaler RandomForest                      0:01:47       0.2841    0.4922\n",
            "         7   StandardScalerWrapper XGBoostRegressor         0:00:39       0.4909    0.4922\n",
            "         8   MaxAbsScaler ExtremeRandomTrees                0:01:11       0.4117    0.4922\n",
            "         9   StandardScalerWrapper ElasticNet               0:00:30       0.2021    0.4922\n",
            "        10   MaxAbsScaler RandomForest                      0:01:02       0.3596    0.4922\n",
            "        11   MaxAbsScaler RandomForest                      0:00:28       0.2583    0.4922\n",
            "        12   StandardScalerWrapper XGBoostRegressor         0:00:30       0.4782    0.4922\n",
            "        13   MaxAbsScaler ExtremeRandomTrees                0:00:33       0.4231    0.4922\n",
            "        14   MaxAbsScaler ExtremeRandomTrees                0:00:29       0.2038    0.4922\n",
            "        15   MaxAbsScaler ExtremeRandomTrees                0:01:04       0.3837    0.4922\n",
            "        16   MaxAbsScaler ElasticNet                        0:00:35       0.2029    0.4922\n",
            "        17   MaxAbsScaler RandomForest                      0:00:28       0.2173    0.4922\n",
            "        18   MaxAbsScaler RandomForest                      0:00:30       0.3860    0.4922\n",
            "        19   SparseNormalizer XGBoostRegressor              0:01:31       0.4461    0.4922\n",
            "        20   StandardScalerWrapper RandomForest             0:00:38       0.3639    0.4922\n",
            "        21   MaxAbsScaler ElasticNet                        0:00:49       0.2027    0.4922\n",
            "        22    VotingEnsemble                                0:00:44       0.5031    0.5031\n",
            "        23    StackEnsemble                                 0:00:43       0.5001    0.5031\n"
          ]
        },
        {
          "output_type": "execute_result",
          "execution_count": 17,
          "data": {
            "text/plain": "{'runId': 'AutoML_5b4f94d5-e680-469e-890b-774eb1fb462b',\n 'target': 'local',\n 'status': 'Completed',\n 'startTimeUtc': '2021-01-28T06:43:16.91796Z',\n 'endTimeUtc': '2021-01-28T07:04:59.074367Z',\n 'properties': {'num_iterations': '1000',\n  'training_type': 'TrainFull',\n  'acquisition_function': 'EI',\n  'primary_metric': 'r2_score',\n  'train_split': '0',\n  'acquisition_parameter': '0',\n  'num_cross_validation': '3',\n  'target': 'local',\n  'AMLSettingsJsonString': '{\"path\":null,\"name\":\"incidents-exp\",\"subscription_id\":\"a24a24d5-8d87-4c8a-99b6-91ed2d2df51f\",\"resource_group\":\"aml-quickstarts-136346\",\"workspace_name\":\"quick-starts-ws-136346\",\"region\":\"southcentralus\",\"compute_target\":\"local\",\"spark_service\":null,\"azure_service\":\"Microsoft.AzureNotebookVM\",\"many_models\":false,\"pipeline_fetch_max_batch_size\":1,\"iterations\":1000,\"primary_metric\":\"r2_score\",\"task_type\":\"regression\",\"data_script\":null,\"validation_size\":0.0,\"n_cross_validations\":3,\"y_min\":null,\"y_max\":null,\"num_classes\":null,\"featurization\":\"auto\",\"_ignore_package_version_incompatibilities\":false,\"is_timeseries\":false,\"max_cores_per_iteration\":1,\"max_concurrent_iterations\":1,\"iteration_timeout_minutes\":null,\"mem_in_mb\":null,\"enforce_time_on_windows\":false,\"experiment_timeout_minutes\":20,\"experiment_exit_score\":null,\"whitelist_models\":null,\"blacklist_algos\":[\"TensorFlowDNN\",\"TensorFlowLinearRegressor\"],\"supported_models\":[\"KNN\",\"XGBoostRegressor\",\"OnlineGradientDescentRegressor\",\"DecisionTree\",\"TensorFlowDNN\",\"ExtremeRandomTrees\",\"FastLinearRegressor\",\"SGD\",\"TensorFlowLinearRegressor\",\"LightGBM\",\"ElasticNet\",\"RandomForest\",\"LassoLars\",\"GradientBoosting\"],\"auto_blacklist\":true,\"blacklist_samples_reached\":false,\"exclude_nan_labels\":true,\"verbosity\":20,\"_debug_log\":\"automated_ml_errors.log\",\"show_warnings\":false,\"model_explainability\":true,\"service_url\":null,\"sdk_url\":null,\"sdk_packages\":null,\"enable_onnx_compatible_models\":false,\"enable_split_onnx_featurizer_estimator_models\":false,\"vm_type\":null,\"telemetry_verbosity\":20,\"send_telemetry\":true,\"enable_dnn\":false,\"scenario\":\"SDK-1.13.0\",\"environment_label\":null,\"force_text_dnn\":false,\"enable_feature_sweeping\":true,\"enable_early_stopping\":false,\"early_stopping_n_iters\":10,\"metrics\":null,\"enable_ensembling\":true,\"enable_stack_ensembling\":true,\"ensemble_iterations\":15,\"enable_tf\":false,\"enable_subsampling\":null,\"subsample_seed\":null,\"enable_nimbusml\":false,\"enable_streaming\":false,\"force_streaming\":false,\"track_child_runs\":true,\"allowed_private_models\":[],\"label_column_name\":\"time_to_close\",\"weight_column_name\":null,\"cv_split_column_names\":null,\"enable_local_managed\":false,\"_local_managed_run_id\":null,\"cost_mode\":1,\"lag_length\":0,\"metric_operation\":\"maximize\",\"preprocess\":true}',\n  'DataPrepJsonString': None,\n  'EnableSubsampling': None,\n  'runTemplate': 'AutoML',\n  'azureml.runsource': 'automl',\n  'display_task_type': 'regression',\n  'dependencies_versions': '{\"azureml-widgets\": \"1.20.0\", \"azureml-train\": \"1.20.0\", \"azureml-train-restclients-hyperdrive\": \"1.20.0\", \"azureml-train-core\": \"1.20.0\", \"azureml-train-automl\": \"1.20.0\", \"azureml-train-automl-runtime\": \"1.20.0\", \"azureml-train-automl-client\": \"1.20.0\", \"azureml-tensorboard\": \"1.20.0\", \"azureml-telemetry\": \"1.20.0\", \"azureml-sdk\": \"1.20.0\", \"azureml-samples\": \"0+unknown\", \"azureml-pipeline\": \"1.20.0\", \"azureml-pipeline-steps\": \"1.20.0\", \"azureml-pipeline-core\": \"1.20.0\", \"azureml-opendatasets\": \"1.20.0\", \"azureml-model-management-sdk\": \"1.0.1b6.post1\", \"azureml-mlflow\": \"1.20.0.post1\", \"azureml-interpret\": \"1.20.0\", \"azureml-explain-model\": \"1.20.0\", \"azureml-defaults\": \"1.20.0\", \"azureml-dataset-runtime\": \"1.20.0\", \"azureml-dataprep\": \"2.7.1\", \"azureml-dataprep-rslex\": \"1.5.0\", \"azureml-dataprep-native\": \"27.0.0\", \"azureml-datadrift\": \"1.20.0\", \"azureml-core\": \"1.20.0\", \"azureml-contrib-services\": \"1.20.0\", \"azureml-contrib-server\": \"1.20.0\", \"azureml-contrib-reinforcementlearning\": \"1.20.0\", \"azureml-contrib-pipeline-steps\": \"1.20.0\", \"azureml-contrib-notebook\": \"1.20.0\", \"azureml-contrib-interpret\": \"1.20.0\", \"azureml-contrib-gbdt\": \"1.20.0\", \"azureml-contrib-fairness\": \"1.20.0\", \"azureml-contrib-dataset\": \"1.20.0\", \"azureml-cli-common\": \"1.20.0\", \"azureml-automl-runtime\": \"1.20.0\", \"azureml-automl-core\": \"1.20.0\", \"azureml-accel-models\": \"1.20.0\"}',\n  '_aml_system_scenario_identification': 'Local.Parent',\n  'ClientSdkVersion': '1.20.0',\n  'ClientType': 'SDK',\n  'environment_cpu_name': 'AzureML-AutoML',\n  'environment_cpu_label': 'prod',\n  'environment_gpu_name': 'AzureML-AutoML-GPU',\n  'environment_gpu_label': 'prod',\n  'root_attribution': 'automl',\n  'attribution': 'AutoML',\n  'Orchestrator': 'AutoML',\n  '_azureml.ComputeTargetType': 'local',\n  'ProblemInfoJsonString': '{\"dataset_num_categorical\": 0, \"is_sparse\": true, \"subsampling\": false, \"dataset_classes\": 11039, \"dataset_features\": 38, \"dataset_samples\": 24985, \"single_frequency_class_detected\": false}',\n  'feature_skus': 'automatedml_sdk_guardrails'},\n 'inputDatasets': [],\n 'outputDatasets': [],\n 'logFiles': {},\n 'submittedBy': 'ODL_User 136346'}"
          },
          "metadata": {}
        }
      ],
      "execution_count": 17,
      "metadata": {
        "gather": {
          "logged": 1611817873852
        },
        "jupyter": {
          "outputs_hidden": false,
          "source_hidden": false
        },
        "nteract": {
          "transient": {
            "deleting": false
          }
        }
      }
    },
    {
      "cell_type": "code",
      "source": [
        "best_run, fitted_model = automl_run.get_output()\r\n",
        "print(best_run)\r\n",
        "print(fitted_model)"
      ],
      "outputs": [
        {
          "output_type": "stream",
          "name": "stdout",
          "text": [
            "Run(Experiment: incidents-exp,\n",
            "Id: AutoML_5b4f94d5-e680-469e-890b-774eb1fb462b_22,\n",
            "Type: None,\n",
            "Status: Completed)\n",
            "RegressionPipeline(pipeline=Pipeline(memory=None,\n",
            "                                     steps=[('datatransformer',\n",
            "                                             DataTransformer(enable_dnn=None,\n",
            "                                                             enable_feature_sweeping=None,\n",
            "                                                             feature_sweeping_config=None,\n",
            "                                                             feature_sweeping_timeout=None,\n",
            "                                                             featurization_config=None,\n",
            "                                                             force_text_dnn=None,\n",
            "                                                             is_cross_validation=None,\n",
            "                                                             is_onnx_compatible=None,\n",
            "                                                             logger=None,\n",
            "                                                             observer=None,\n",
            "                                                             task=None,\n",
            "                                                             working_dir=None)),\n",
            "                                            ('pre...\n",
            "                                                                                                                         objective='reg:squarederror',\n",
            "                                                                                                                         random_state=0,\n",
            "                                                                                                                         reg_alpha=0.9375,\n",
            "                                                                                                                         reg_lambda=1.4583333333333335,\n",
            "                                                                                                                         scale_pos_weight=1,\n",
            "                                                                                                                         seed=None,\n",
            "                                                                                                                         silent=None,\n",
            "                                                                                                                         subsample=1,\n",
            "                                                                                                                         tree_method='auto',\n",
            "                                                                                                                         verbose=-10,\n",
            "                                                                                                                         verbosity=0))],\n",
            "                                                                                                verbose=False))],\n",
            "                                                                          weights=[0.4,\n",
            "                                                                                   0.13333333333333333,\n",
            "                                                                                   0.13333333333333333,\n",
            "                                                                                   0.13333333333333333,\n",
            "                                                                                   0.13333333333333333,\n",
            "                                                                                   0.06666666666666667]))],\n",
            "                                     verbose=False),\n",
            "                   stddev=None)\n"
          ]
        }
      ],
      "execution_count": 18,
      "metadata": {
        "collapsed": true,
        "gather": {
          "logged": 1611817875438
        },
        "jupyter": {
          "outputs_hidden": false,
          "source_hidden": false
        },
        "nteract": {
          "transient": {
            "deleting": false
          }
        }
      }
    },
    {
      "cell_type": "markdown",
      "source": [
        "Best Run Model on another meric"
      ],
      "metadata": {
        "nteract": {
          "transient": {
            "deleting": false
          }
        }
      }
    },
    {
      "cell_type": "code",
      "source": [
        "lookup_metric = \"root_mean_squared_error\"\r\n",
        "best_run, fitted_model = automl_run.get_output(metric = lookup_metric)\r\n",
        "print(best_run)\r\n",
        "print(fitted_model)"
      ],
      "outputs": [
        {
          "output_type": "stream",
          "name": "stdout",
          "text": [
            "Run(Experiment: incidents-exp,\n",
            "Id: AutoML_5b4f94d5-e680-469e-890b-774eb1fb462b_22,\n",
            "Type: None,\n",
            "Status: Completed)\n",
            "RegressionPipeline(pipeline=Pipeline(memory=None,\n",
            "                                     steps=[('datatransformer',\n",
            "                                             DataTransformer(enable_dnn=None,\n",
            "                                                             enable_feature_sweeping=None,\n",
            "                                                             feature_sweeping_config=None,\n",
            "                                                             feature_sweeping_timeout=None,\n",
            "                                                             featurization_config=None,\n",
            "                                                             force_text_dnn=None,\n",
            "                                                             is_cross_validation=None,\n",
            "                                                             is_onnx_compatible=None,\n",
            "                                                             logger=None,\n",
            "                                                             observer=None,\n",
            "                                                             task=None,\n",
            "                                                             working_dir=None)),\n",
            "                                            ('pre...\n",
            "                                                                                                                         objective='reg:squarederror',\n",
            "                                                                                                                         random_state=0,\n",
            "                                                                                                                         reg_alpha=0.9375,\n",
            "                                                                                                                         reg_lambda=1.4583333333333335,\n",
            "                                                                                                                         scale_pos_weight=1,\n",
            "                                                                                                                         seed=None,\n",
            "                                                                                                                         silent=None,\n",
            "                                                                                                                         subsample=1,\n",
            "                                                                                                                         tree_method='auto',\n",
            "                                                                                                                         verbose=-10,\n",
            "                                                                                                                         verbosity=0))],\n",
            "                                                                                                verbose=False))],\n",
            "                                                                          weights=[0.4,\n",
            "                                                                                   0.13333333333333333,\n",
            "                                                                                   0.13333333333333333,\n",
            "                                                                                   0.13333333333333333,\n",
            "                                                                                   0.13333333333333333,\n",
            "                                                                                   0.06666666666666667]))],\n",
            "                                     verbose=False),\n",
            "                   stddev=None)\n"
          ]
        }
      ],
      "execution_count": 19,
      "metadata": {
        "collapsed": true,
        "gather": {
          "logged": 1611817925449
        },
        "jupyter": {
          "outputs_hidden": false,
          "source_hidden": false
        },
        "nteract": {
          "transient": {
            "deleting": false
          }
        }
      }
    },
    {
      "cell_type": "code",
      "source": [
        "fitted_model.steps[-1]"
      ],
      "outputs": [
        {
          "output_type": "execute_result",
          "execution_count": 20,
          "data": {
            "text/plain": "('prefittedsoftvotingregressor',\n PreFittedSoftVotingRegressor(estimators=[('0',\n                                           Pipeline(memory=None,\n                                                    steps=[('maxabsscaler',\n                                                            MaxAbsScaler(copy=True)),\n                                                           ('lightgbmregressor',\n                                                            LightGBMRegressor(boosting_type='gbdt',\n                                                                              class_weight=None,\n                                                                              colsample_bytree=1.0,\n                                                                              importance_type='split',\n                                                                              learning_rate=0.1,\n                                                                              max_depth=-1,\n                                                                              min_child_samples=20,\n                                                                              min_child_weight=0.001,\n                                                                              min_split_gain=0.0,\n                                                                              n_estimators=100,\n                                                                              n...\n                                                                             n_estimators=800,\n                                                                             n_jobs=1,\n                                                                             nthread=None,\n                                                                             objective='reg:squarederror',\n                                                                             random_state=0,\n                                                                             reg_alpha=0.9375,\n                                                                             reg_lambda=1.4583333333333335,\n                                                                             scale_pos_weight=1,\n                                                                             seed=None,\n                                                                             silent=None,\n                                                                             subsample=1,\n                                                                             tree_method='auto',\n                                                                             verbose=-10,\n                                                                             verbosity=0))],\n                                                    verbose=False))],\n                              weights=[0.4, 0.13333333333333333,\n                                       0.13333333333333333, 0.13333333333333333,\n                                       0.13333333333333333,\n                                       0.06666666666666667]))"
          },
          "metadata": {}
        }
      ],
      "execution_count": 20,
      "metadata": {
        "collapsed": true,
        "gather": {
          "logged": 1611817926216
        },
        "jupyter": {
          "outputs_hidden": false,
          "source_hidden": false
        },
        "nteract": {
          "transient": {
            "deleting": false
          }
        }
      }
    },
    {
      "cell_type": "code",
      "source": [
        "#Exporting most optimal model obtained from AutoML using joblib\r\n",
        "import joblib\r\n",
        "joblib.dump(fitted_model,'automl_best_model.txt')"
      ],
      "outputs": [
        {
          "output_type": "execute_result",
          "execution_count": 21,
          "data": {
            "text/plain": "['automl_best_model.txt']",
            "text/html": "['automl_best_model.txt']"
          },
          "metadata": {}
        }
      ],
      "execution_count": 21,
      "metadata": {
        "collapsed": true,
        "gather": {
          "logged": 1611817926715
        },
        "jupyter": {
          "outputs_hidden": false,
          "source_hidden": false
        },
        "nteract": {
          "transient": {
            "deleting": false
          }
        }
      }
    },
    {
      "cell_type": "code",
      "source": [
        "#Printing the best estimator for prediction from AutoML\r\n",
        "print(fitted_model._final_estimator)"
      ],
      "outputs": [
        {
          "output_type": "stream",
          "name": "stdout",
          "text": [
            "PreFittedSoftVotingRegressor(estimators=[('0',\n",
            "                                          Pipeline(memory=None,\n",
            "                                                   steps=[('maxabsscaler',\n",
            "                                                           MaxAbsScaler(copy=True)),\n",
            "                                                          ('lightgbmregressor',\n",
            "                                                           LightGBMRegressor(boosting_type='gbdt',\n",
            "                                                                             class_weight=None,\n",
            "                                                                             colsample_bytree=1.0,\n",
            "                                                                             importance_type='split',\n",
            "                                                                             learning_rate=0.1,\n",
            "                                                                             max_depth=-1,\n",
            "                                                                             min_child_samples=20,\n",
            "                                                                             min_child_weight=0.001,\n",
            "                                                                             min_split_gain=0.0,\n",
            "                                                                             n_estimators=100,\n",
            "                                                                             n...\n",
            "                                                                            n_estimators=800,\n",
            "                                                                            n_jobs=1,\n",
            "                                                                            nthread=None,\n",
            "                                                                            objective='reg:squarederror',\n",
            "                                                                            random_state=0,\n",
            "                                                                            reg_alpha=0.9375,\n",
            "                                                                            reg_lambda=1.4583333333333335,\n",
            "                                                                            scale_pos_weight=1,\n",
            "                                                                            seed=None,\n",
            "                                                                            silent=None,\n",
            "                                                                            subsample=1,\n",
            "                                                                            tree_method='auto',\n",
            "                                                                            verbose=-10,\n",
            "                                                                            verbosity=0))],\n",
            "                                                   verbose=False))],\n",
            "                             weights=[0.4, 0.13333333333333333,\n",
            "                                      0.13333333333333333, 0.13333333333333333,\n",
            "                                      0.13333333333333333,\n",
            "                                      0.06666666666666667])\n"
          ]
        }
      ],
      "execution_count": 22,
      "metadata": {
        "collapsed": true,
        "gather": {
          "logged": 1611817926997
        },
        "jupyter": {
          "outputs_hidden": false,
          "source_hidden": false
        },
        "nteract": {
          "transient": {
            "deleting": false
          }
        }
      }
    },
    {
      "cell_type": "code",
      "source": [
        "best_run"
      ],
      "outputs": [
        {
          "output_type": "execute_result",
          "execution_count": 23,
          "data": {
            "text/plain": "Run(Experiment: incidents-exp,\nId: AutoML_5b4f94d5-e680-469e-890b-774eb1fb462b_22,\nType: None,\nStatus: Completed)",
            "text/html": "<table style=\"width:100%\"><tr><th>Experiment</th><th>Id</th><th>Type</th><th>Status</th><th>Details Page</th><th>Docs Page</th></tr><tr><td>incidents-exp</td><td>AutoML_5b4f94d5-e680-469e-890b-774eb1fb462b_22</td><td></td><td>Completed</td><td><a href=\"https://ml.azure.com/experiments/incidents-exp/runs/AutoML_5b4f94d5-e680-469e-890b-774eb1fb462b_22?wsid=/subscriptions/a24a24d5-8d87-4c8a-99b6-91ed2d2df51f/resourcegroups/aml-quickstarts-136346/workspaces/quick-starts-ws-136346\" target=\"_blank\" rel=\"noopener\">Link to Azure Machine Learning studio</a></td><td><a href=\"https://docs.microsoft.com/en-us/python/api/azureml-core/azureml.core.run.Run?view=azure-ml-py\" target=\"_blank\" rel=\"noopener\">Link to Documentation</a></td></tr></table>"
          },
          "metadata": {}
        }
      ],
      "execution_count": 23,
      "metadata": {
        "collapsed": true,
        "gather": {
          "logged": 1611817927280
        },
        "jupyter": {
          "outputs_hidden": false,
          "source_hidden": false
        },
        "nteract": {
          "transient": {
            "deleting": false
          }
        }
      }
    },
    {
      "cell_type": "code",
      "source": [
        "\r\n",
        "best_run.id"
      ],
      "outputs": [
        {
          "output_type": "execute_result",
          "execution_count": 24,
          "data": {
            "text/plain": "'AutoML_5b4f94d5-e680-469e-890b-774eb1fb462b_22'"
          },
          "metadata": {}
        }
      ],
      "execution_count": 24,
      "metadata": {
        "collapsed": true,
        "gather": {
          "logged": 1611817927738
        },
        "jupyter": {
          "outputs_hidden": false,
          "source_hidden": false
        },
        "nteract": {
          "transient": {
            "deleting": false
          }
        }
      }
    },
    {
      "cell_type": "code",
      "source": [],
      "outputs": [],
      "execution_count": null,
      "metadata": {
        "collapsed": true,
        "gather": {
          "logged": 1611040056997
        },
        "jupyter": {
          "outputs_hidden": false,
          "source_hidden": false
        },
        "nteract": {
          "transient": {
            "deleting": false
          }
        }
      }
    },
    {
      "cell_type": "markdown",
      "source": [],
      "metadata": {}
    },
    {
      "cell_type": "markdown",
      "source": [
        "## Best Model\n",
        "\n",
        "TODO: In the cell below, get the best model from the automl experiments and display all the properties of the model.\n",
        "\n"
      ],
      "metadata": {}
    },
    {
      "cell_type": "code",
      "source": [
        "\n",
        "run_metrics = best_run.get_metrics()\n",
        "run_metrics"
      ],
      "outputs": [
        {
          "output_type": "execute_result",
          "execution_count": 26,
          "data": {
            "text/plain": "{'normalized_median_absolute_error': 0.0029812170226194193,\n 'normalized_root_mean_squared_log_error': 0.04800541705810593,\n 'r2_score': 0.5031106785977179,\n 'mean_absolute_error': 126.72290595249338,\n 'root_mean_squared_error': 377.85460168257146,\n 'normalized_root_mean_squared_error': 0.04613261944248049,\n 'root_mean_squared_log_error': 0.4325704069108028,\n 'median_absolute_error': 24.41800583241699,\n 'explained_variance': 0.5031535130951525,\n 'normalized_mean_absolute_error': 0.015471717345559253,\n 'spearman_correlation': 0.822950582687059,\n 'mean_absolute_percentage_error': 89.88796114656861,\n 'residuals': 'aml://artifactId/ExperimentRun/dcid.AutoML_5b4f94d5-e680-469e-890b-774eb1fb462b_22/residuals',\n 'predicted_true': 'aml://artifactId/ExperimentRun/dcid.AutoML_5b4f94d5-e680-469e-890b-774eb1fb462b_22/predicted_true'}"
          },
          "metadata": {}
        }
      ],
      "execution_count": 26,
      "metadata": {
        "gather": {
          "logged": 1611817928470
        }
      }
    },
    {
      "cell_type": "code",
      "source": [
        "#TODO: Save the best model"
      ],
      "outputs": [],
      "execution_count": null,
      "metadata": {
        "gather": {
          "logged": 1611717629633
        },
        "jupyter": {
          "outputs_hidden": false,
          "source_hidden": false
        },
        "nteract": {
          "transient": {
            "deleting": false
          }
        }
      }
    },
    {
      "cell_type": "markdown",
      "source": [
        "## Model Deployment"
      ],
      "metadata": {
        "nteract": {
          "transient": {
            "deleting": false
          }
        }
      }
    },
    {
      "cell_type": "markdown",
      "source": [
        "## Model Deployment\n",
        "\n"
      ],
      "metadata": {}
    },
    {
      "cell_type": "markdown",
      "source": [
        "## Register Model"
      ],
      "metadata": {
        "nteract": {
          "transient": {
            "deleting": false
          }
        }
      }
    },
    {
      "cell_type": "code",
      "source": [
        "\r\n",
        "#Model = best_run.register_model(model_name = \"automl_best_model.pkl\", model_path = './outputs/')\r\n",
        "\r\n",
        "\r\n",
        "# az ml model register -n sklearn_mnist  --asset-path outputs/sklearn_mnist_model.pkl  --experiment-name myexperiment --run-id myrunid --tag area=mnist\r\n",
        "\r\n",
        "from azureml.core import Model\r\n",
        "from azureml.core.resource_configuration import ResourceConfiguration\r\n",
        "\r\n",
        "model = Model.register(workspace=ws,\r\n",
        "                       model_name='automl_best_model',                # Name of the registered model in your workspace.\r\n",
        "\r\n",
        "                       model_path='./automl_best_model.txt',  # Local file to upload and register as a model.\r\n",
        "                       model_framework=Model.Framework.SCIKITLEARN,\r\n",
        "                       \r\n",
        "                       description='linear regression model to predict time to close.')\r\n",
        "\r\n",
        "print('Name:', model.name)\r\n",
        "print('Version:', model.version)"
      ],
      "outputs": [
        {
          "output_type": "stream",
          "name": "stdout",
          "text": [
            "Registering model automl_best_model\n",
            "Name: automl_best_model\n",
            "Version: 1\n"
          ]
        }
      ],
      "execution_count": 29,
      "metadata": {
        "collapsed": true,
        "gather": {
          "logged": 1611817929508
        },
        "jupyter": {
          "outputs_hidden": false,
          "source_hidden": false
        },
        "nteract": {
          "transient": {
            "deleting": false
          }
        }
      }
    },
    {
      "cell_type": "code",
      "source": [
        "#Create inference config\r\n",
        "from azureml.core.environment import Environment\r\n",
        "from azureml.core.model import InferenceConfig\r\n",
        "\r\n",
        "env = Environment.get(workspace=ws,name=\"AzureML-AutoML\")\r\n",
        "inferencefinal = InferenceConfig(entry_script='score.py',environment=env) "
      ],
      "outputs": [],
      "execution_count": 30,
      "metadata": {
        "collapsed": true,
        "gather": {
          "logged": 1611817929798
        },
        "jupyter": {
          "outputs_hidden": false,
          "source_hidden": false
        },
        "nteract": {
          "transient": {
            "deleting": false
          }
        }
      }
    },
    {
      "cell_type": "markdown",
      "source": [
        "## Deploy AutoML Model\r\n",
        "\r\n",
        "### AutoML model resulted in better R2 score compared to HD model \r\n",
        "### So AUtoML is chosen for deployment"
      ],
      "metadata": {
        "nteract": {
          "transient": {
            "deleting": false
          }
        }
      }
    },
    {
      "cell_type": "code",
      "source": [
        "\n",
        "#Deploy model and check service state\n",
        "\n",
        "from azureml.core import Model\n",
        "from azureml.core.webservice import AciWebservice, Webservice, LocalWebservice\n",
        "\n",
        "aci_config = AciWebservice.deploy_configuration()\n",
        "\n",
        "# (cpu_cores=1, memory_gb=2,enable_app_insights=True, auth_enabled=True)  \n",
        "service_name = 'deployautoml-6'\n",
        "\n",
        "service = Model.deploy(ws, service_name, [model], deployment_config=aci_config, inference_config=inferencefinal, overwrite=True)\n",
        "service.wait_for_deployment(show_output = True)\n",
        "print(service.get_logs())\n"
      ],
      "outputs": [
        {
          "output_type": "stream",
          "name": "stdout",
          "text": [
            "Tips: You can try get_logs(): https://aka.ms/debugimage#dockerlog or local deployment: https://aka.ms/debugimage#debug-locally to debug if deployment takes longer than 10 minutes.\n",
            "Running........................................................\n",
            "Succeeded\n",
            "ACI service creation operation finished, operation \"Succeeded\"\n",
            "2021-01-28T07:16:10,120564626+00:00 - gunicorn/run \n",
            "2021-01-28T07:16:10,220956800+00:00 - rsyslog/run \n",
            "2021-01-28T07:16:10,221031901+00:00 - iot-server/run \n",
            "2021-01-28T07:16:10,320856668+00:00 - nginx/run \n",
            "/usr/sbin/nginx: /azureml-envs/azureml_20a8278aa8b20dd48cc50f56a6d2586c/lib/libcrypto.so.1.0.0: no version information available (required by /usr/sbin/nginx)\n",
            "/usr/sbin/nginx: /azureml-envs/azureml_20a8278aa8b20dd48cc50f56a6d2586c/lib/libcrypto.so.1.0.0: no version information available (required by /usr/sbin/nginx)\n",
            "/usr/sbin/nginx: /azureml-envs/azureml_20a8278aa8b20dd48cc50f56a6d2586c/lib/libssl.so.1.0.0: no version information available (required by /usr/sbin/nginx)\n",
            "/usr/sbin/nginx: /azureml-envs/azureml_20a8278aa8b20dd48cc50f56a6d2586c/lib/libssl.so.1.0.0: no version information available (required by /usr/sbin/nginx)\n",
            "/usr/sbin/nginx: /azureml-envs/azureml_20a8278aa8b20dd48cc50f56a6d2586c/lib/libssl.so.1.0.0: no version information available (required by /usr/sbin/nginx)\n",
            "rsyslogd: /azureml-envs/azureml_20a8278aa8b20dd48cc50f56a6d2586c/lib/libuuid.so.1: no version information available (required by rsyslogd)\n",
            "EdgeHubConnectionString and IOTEDGE_IOTHUBHOSTNAME are not set. Exiting...\n",
            "2021-01-28T07:16:12,922863394+00:00 - iot-server/finish 1 0\n",
            "2021-01-28T07:16:13,020277336+00:00 - Exit code 1 is normal. Not restarting iot-server.\n",
            "Starting gunicorn 19.9.0\n",
            "Listening at: http://127.0.0.1:31311 (11)\n",
            "Using worker: sync\n",
            "worker timeout is set to 300\n",
            "Booting worker with pid: 42\n",
            "SPARK_HOME not set. Skipping PySpark Initialization.\n",
            "Generating new fontManager, this may take some time...\n",
            "Initializing logger\n",
            "2021-01-28 07:16:44,426 | root | INFO | Starting up app insights client\n",
            "2021-01-28 07:16:44,427 | root | INFO | Starting up request id generator\n",
            "2021-01-28 07:16:44,427 | root | INFO | Starting up app insight hooks\n",
            "2021-01-28 07:16:44,428 | root | INFO | Invoking user's init function\n",
            "2021-01-28 07:16:54,719 | root | INFO | Users's init has completed successfully\n",
            "2021-01-28 07:16:54,723 | root | INFO | Skipping middleware: dbg_model_info as it's not enabled.\n",
            "2021-01-28 07:16:54,723 | root | INFO | Skipping middleware: dbg_resource_usage as it's not enabled.\n",
            "2021-01-28 07:16:54,724 | root | INFO | Scoring timeout is found from os.environ: 60000 ms\n",
            "2021-01-28 07:16:54,920 | root | INFO | Swagger file not present\n",
            "2021-01-28 07:16:54,920 | root | INFO | 404\n",
            "127.0.0.1 - - [28/Jan/2021:07:16:54 +0000] \"GET /swagger.json HTTP/1.0\" 404 19 \"-\" \"Go-http-client/1.1\"\n",
            "2021-01-28 07:16:56,968 | root | INFO | Swagger file not present\n",
            "2021-01-28 07:16:56,969 | root | INFO | 404\n",
            "127.0.0.1 - - [28/Jan/2021:07:16:56 +0000] \"GET /swagger.json HTTP/1.0\" 404 19 \"-\" \"Go-http-client/1.1\"\n",
            "\n"
          ]
        }
      ],
      "execution_count": 31,
      "metadata": {
        "gather": {
          "logged": 1611818217319
        },
        "jupyter": {
          "outputs_hidden": false,
          "source_hidden": false
        },
        "nteract": {
          "transient": {
            "deleting": false
          }
        }
      }
    },
    {
      "cell_type": "markdown",
      "source": [
        "TODO: In the cell below, send a request to the web service you deployed to test it."
      ],
      "metadata": {
        "collapsed": true,
        "gather": {
          "logged": 1598431657736
        },
        "jupyter": {
          "outputs_hidden": false,
          "source_hidden": false
        },
        "nteract": {
          "transient": {
            "deleting": false
          }
        }
      }
    },
    {
      "cell_type": "code",
      "source": [
        "print(service)\r\n",
        "\r\n",
        "print(\"********************************************\")\r\n",
        "print(service.get_logs())\r\n",
        "#print(model)\r\n"
      ],
      "outputs": [
        {
          "output_type": "stream",
          "name": "stdout",
          "text": [
            "AciWebservice(workspace=Workspace.create(name='quick-starts-ws-136346', subscription_id='a24a24d5-8d87-4c8a-99b6-91ed2d2df51f', resource_group='aml-quickstarts-136346'), name=deployautoml-6, image_id=None, compute_type=None, state=ACI, scoring_uri=Healthy, tags=http://33f7a1ec-34ba-45e8-80e5-61333e520460.southcentralus.azurecontainer.io/score, properties={}, created_by={'hasInferenceSchema': 'False', 'hasHttps': 'False'})\n",
            "********************************************\n",
            "2021-01-28T07:16:10,120564626+00:00 - gunicorn/run \n",
            "2021-01-28T07:16:10,220956800+00:00 - rsyslog/run \n",
            "2021-01-28T07:16:10,221031901+00:00 - iot-server/run \n",
            "2021-01-28T07:16:10,320856668+00:00 - nginx/run \n",
            "/usr/sbin/nginx: /azureml-envs/azureml_20a8278aa8b20dd48cc50f56a6d2586c/lib/libcrypto.so.1.0.0: no version information available (required by /usr/sbin/nginx)\n",
            "/usr/sbin/nginx: /azureml-envs/azureml_20a8278aa8b20dd48cc50f56a6d2586c/lib/libcrypto.so.1.0.0: no version information available (required by /usr/sbin/nginx)\n",
            "/usr/sbin/nginx: /azureml-envs/azureml_20a8278aa8b20dd48cc50f56a6d2586c/lib/libssl.so.1.0.0: no version information available (required by /usr/sbin/nginx)\n",
            "/usr/sbin/nginx: /azureml-envs/azureml_20a8278aa8b20dd48cc50f56a6d2586c/lib/libssl.so.1.0.0: no version information available (required by /usr/sbin/nginx)\n",
            "/usr/sbin/nginx: /azureml-envs/azureml_20a8278aa8b20dd48cc50f56a6d2586c/lib/libssl.so.1.0.0: no version information available (required by /usr/sbin/nginx)\n",
            "rsyslogd: /azureml-envs/azureml_20a8278aa8b20dd48cc50f56a6d2586c/lib/libuuid.so.1: no version information available (required by rsyslogd)\n",
            "EdgeHubConnectionString and IOTEDGE_IOTHUBHOSTNAME are not set. Exiting...\n",
            "2021-01-28T07:16:12,922863394+00:00 - iot-server/finish 1 0\n",
            "2021-01-28T07:16:13,020277336+00:00 - Exit code 1 is normal. Not restarting iot-server.\n",
            "Starting gunicorn 19.9.0\n",
            "Listening at: http://127.0.0.1:31311 (11)\n",
            "Using worker: sync\n",
            "worker timeout is set to 300\n",
            "Booting worker with pid: 42\n",
            "SPARK_HOME not set. Skipping PySpark Initialization.\n",
            "Generating new fontManager, this may take some time...\n",
            "Initializing logger\n",
            "2021-01-28 07:16:44,426 | root | INFO | Starting up app insights client\n",
            "2021-01-28 07:16:44,427 | root | INFO | Starting up request id generator\n",
            "2021-01-28 07:16:44,427 | root | INFO | Starting up app insight hooks\n",
            "2021-01-28 07:16:44,428 | root | INFO | Invoking user's init function\n",
            "2021-01-28 07:16:54,719 | root | INFO | Users's init has completed successfully\n",
            "2021-01-28 07:16:54,723 | root | INFO | Skipping middleware: dbg_model_info as it's not enabled.\n",
            "2021-01-28 07:16:54,723 | root | INFO | Skipping middleware: dbg_resource_usage as it's not enabled.\n",
            "2021-01-28 07:16:54,724 | root | INFO | Scoring timeout is found from os.environ: 60000 ms\n",
            "2021-01-28 07:16:54,920 | root | INFO | Swagger file not present\n",
            "2021-01-28 07:16:54,920 | root | INFO | 404\n",
            "127.0.0.1 - - [28/Jan/2021:07:16:54 +0000] \"GET /swagger.json HTTP/1.0\" 404 19 \"-\" \"Go-http-client/1.1\"\n",
            "2021-01-28 07:16:56,968 | root | INFO | Swagger file not present\n",
            "2021-01-28 07:16:56,969 | root | INFO | 404\n",
            "127.0.0.1 - - [28/Jan/2021:07:16:56 +0000] \"GET /swagger.json HTTP/1.0\" 404 19 \"-\" \"Go-http-client/1.1\"\n",
            "\n"
          ]
        }
      ],
      "execution_count": 32,
      "metadata": {
        "collapsed": true,
        "gather": {
          "logged": 1611818217479
        },
        "jupyter": {
          "outputs_hidden": false,
          "source_hidden": false
        },
        "nteract": {
          "transient": {
            "deleting": false
          }
        }
      }
    },
    {
      "cell_type": "markdown",
      "source": [
        "## Create Webservice"
      ],
      "metadata": {
        "nteract": {
          "transient": {
            "deleting": false
          }
        }
      }
    },
    {
      "cell_type": "code",
      "source": [
        "services = Webservice.list(ws)\r\n",
        "print(services[0].scoring_uri)\r\n",
        "print(services[0].swagger_uri)\r\n",
        "print(service.state)"
      ],
      "outputs": [
        {
          "output_type": "stream",
          "name": "stdout",
          "text": [
            "http://33f7a1ec-34ba-45e8-80e5-61333e520460.southcentralus.azurecontainer.io/score\n",
            "http://33f7a1ec-34ba-45e8-80e5-61333e520460.southcentralus.azurecontainer.io/swagger.json\n",
            "Healthy\n"
          ]
        }
      ],
      "execution_count": 33,
      "metadata": {
        "collapsed": true,
        "gather": {
          "logged": 1611818217709
        },
        "jupyter": {
          "outputs_hidden": false,
          "source_hidden": false
        },
        "nteract": {
          "transient": {
            "deleting": false
          }
        }
      }
    },
    {
      "cell_type": "code",
      "source": [
        "    scoring_uri = service.scoring_uri\r\n"
      ],
      "outputs": [],
      "execution_count": 34,
      "metadata": {
        "collapsed": true,
        "gather": {
          "logged": 1611818218067
        },
        "jupyter": {
          "outputs_hidden": false,
          "source_hidden": false
        },
        "nteract": {
          "transient": {
            "deleting": false
          }
        }
      }
    },
    {
      "cell_type": "code",
      "source": [
        "print(service.scoring_uri)"
      ],
      "outputs": [
        {
          "output_type": "stream",
          "name": "stdout",
          "text": [
            "http://33f7a1ec-34ba-45e8-80e5-61333e520460.southcentralus.azurecontainer.io/score\n"
          ]
        }
      ],
      "execution_count": 35,
      "metadata": {
        "collapsed": true,
        "gather": {
          "logged": 1611818218225
        },
        "jupyter": {
          "outputs_hidden": false,
          "source_hidden": false
        },
        "nteract": {
          "transient": {
            "deleting": false
          }
        }
      }
    },
    {
      "cell_type": "code",
      "source": [
        "print(service.state)"
      ],
      "outputs": [
        {
          "output_type": "stream",
          "name": "stdout",
          "text": [
            "Healthy\n"
          ]
        }
      ],
      "execution_count": 36,
      "metadata": {
        "collapsed": true,
        "gather": {
          "logged": 1611818218334
        },
        "jupyter": {
          "outputs_hidden": false,
          "source_hidden": false
        },
        "nteract": {
          "transient": {
            "deleting": false
          }
        }
      }
    },
    {
      "cell_type": "code",
      "source": [
        "print(\"Swagger URI: \" + service.swagger_uri)\r\n",
        "#print(\"Authetication Key: \" + service.get_keys()[0])"
      ],
      "outputs": [
        {
          "output_type": "stream",
          "name": "stdout",
          "text": [
            "Swagger URI: http://33f7a1ec-34ba-45e8-80e5-61333e520460.southcentralus.azurecontainer.io/swagger.json\n"
          ]
        }
      ],
      "execution_count": 37,
      "metadata": {
        "collapsed": true,
        "gather": {
          "logged": 1611818218453
        },
        "jupyter": {
          "outputs_hidden": false,
          "source_hidden": false
        },
        "nteract": {
          "transient": {
            "deleting": false
          }
        }
      }
    },
    {
      "cell_type": "markdown",
      "source": [
        "### Dataset totest"
      ],
      "metadata": {
        "nteract": {
          "transient": {
            "deleting": false
          }
        }
      }
    },
    {
      "cell_type": "code",
      "source": [
        "df1[1000:1002].T"
      ],
      "outputs": [
        {
          "output_type": "execute_result",
          "execution_count": 38,
          "data": {
            "text/plain": "                        6738   6747\ncategory               20.00  32.00\nassignment_group       60.00  18.00\nreopen_count            0.00   0.00\nmade_sla                0.00   0.00\ntime_to_close         124.80 515.45\npriority_1 - Critical   0.00   0.00\npriority_2 - High       1.00   0.00\npriority_3 - Moderate   0.00   1.00\npriority_4 - Low        0.00   0.00\nimpact_1 - High         1.00   0.00\nimpact_2 - Medium       0.00   1.00\nimpact_3 - Low          0.00   0.00\nurgency_1 - High        0.00   0.00\nurgency_2 - Medium      1.00   1.00\nurgency_3 - Low         0.00   0.00\nclosed_code_?           0.00   0.00\nclosed_code_code 1      0.00   0.00\nclosed_code_code 10     0.00   0.00\nclosed_code_code 11     0.00   0.00\nclosed_code_code 12     0.00   0.00\nclosed_code_code 13     0.00   0.00\nclosed_code_code 14     0.00   0.00\nclosed_code_code 15     0.00   0.00\nclosed_code_code 16     0.00   0.00\nclosed_code_code 17     0.00   0.00\nclosed_code_code 2      0.00   0.00\nclosed_code_code 3      0.00   0.00\nclosed_code_code 4      0.00   0.00\nclosed_code_code 5      0.00   0.00\nclosed_code_code 6      1.00   1.00\nclosed_code_code 7      0.00   0.00\nclosed_code_code 8      0.00   0.00\nclosed_code_code 9      0.00   0.00",
            "text/html": "<div>\n<style scoped>\n    .dataframe tbody tr th:only-of-type {\n        vertical-align: middle;\n    }\n\n    .dataframe tbody tr th {\n        vertical-align: top;\n    }\n\n    .dataframe thead th {\n        text-align: right;\n    }\n</style>\n<table border=\"1\" class=\"dataframe\">\n  <thead>\n    <tr style=\"text-align: right;\">\n      <th></th>\n      <th>6738</th>\n      <th>6747</th>\n    </tr>\n  </thead>\n  <tbody>\n    <tr>\n      <th>category</th>\n      <td>20.00</td>\n      <td>32.00</td>\n    </tr>\n    <tr>\n      <th>assignment_group</th>\n      <td>60.00</td>\n      <td>18.00</td>\n    </tr>\n    <tr>\n      <th>reopen_count</th>\n      <td>0.00</td>\n      <td>0.00</td>\n    </tr>\n    <tr>\n      <th>made_sla</th>\n      <td>0.00</td>\n      <td>0.00</td>\n    </tr>\n    <tr>\n      <th>time_to_close</th>\n      <td>124.80</td>\n      <td>515.45</td>\n    </tr>\n    <tr>\n      <th>priority_1 - Critical</th>\n      <td>0.00</td>\n      <td>0.00</td>\n    </tr>\n    <tr>\n      <th>priority_2 - High</th>\n      <td>1.00</td>\n      <td>0.00</td>\n    </tr>\n    <tr>\n      <th>priority_3 - Moderate</th>\n      <td>0.00</td>\n      <td>1.00</td>\n    </tr>\n    <tr>\n      <th>priority_4 - Low</th>\n      <td>0.00</td>\n      <td>0.00</td>\n    </tr>\n    <tr>\n      <th>impact_1 - High</th>\n      <td>1.00</td>\n      <td>0.00</td>\n    </tr>\n    <tr>\n      <th>impact_2 - Medium</th>\n      <td>0.00</td>\n      <td>1.00</td>\n    </tr>\n    <tr>\n      <th>impact_3 - Low</th>\n      <td>0.00</td>\n      <td>0.00</td>\n    </tr>\n    <tr>\n      <th>urgency_1 - High</th>\n      <td>0.00</td>\n      <td>0.00</td>\n    </tr>\n    <tr>\n      <th>urgency_2 - Medium</th>\n      <td>1.00</td>\n      <td>1.00</td>\n    </tr>\n    <tr>\n      <th>urgency_3 - Low</th>\n      <td>0.00</td>\n      <td>0.00</td>\n    </tr>\n    <tr>\n      <th>closed_code_?</th>\n      <td>0.00</td>\n      <td>0.00</td>\n    </tr>\n    <tr>\n      <th>closed_code_code 1</th>\n      <td>0.00</td>\n      <td>0.00</td>\n    </tr>\n    <tr>\n      <th>closed_code_code 10</th>\n      <td>0.00</td>\n      <td>0.00</td>\n    </tr>\n    <tr>\n      <th>closed_code_code 11</th>\n      <td>0.00</td>\n      <td>0.00</td>\n    </tr>\n    <tr>\n      <th>closed_code_code 12</th>\n      <td>0.00</td>\n      <td>0.00</td>\n    </tr>\n    <tr>\n      <th>closed_code_code 13</th>\n      <td>0.00</td>\n      <td>0.00</td>\n    </tr>\n    <tr>\n      <th>closed_code_code 14</th>\n      <td>0.00</td>\n      <td>0.00</td>\n    </tr>\n    <tr>\n      <th>closed_code_code 15</th>\n      <td>0.00</td>\n      <td>0.00</td>\n    </tr>\n    <tr>\n      <th>closed_code_code 16</th>\n      <td>0.00</td>\n      <td>0.00</td>\n    </tr>\n    <tr>\n      <th>closed_code_code 17</th>\n      <td>0.00</td>\n      <td>0.00</td>\n    </tr>\n    <tr>\n      <th>closed_code_code 2</th>\n      <td>0.00</td>\n      <td>0.00</td>\n    </tr>\n    <tr>\n      <th>closed_code_code 3</th>\n      <td>0.00</td>\n      <td>0.00</td>\n    </tr>\n    <tr>\n      <th>closed_code_code 4</th>\n      <td>0.00</td>\n      <td>0.00</td>\n    </tr>\n    <tr>\n      <th>closed_code_code 5</th>\n      <td>0.00</td>\n      <td>0.00</td>\n    </tr>\n    <tr>\n      <th>closed_code_code 6</th>\n      <td>1.00</td>\n      <td>1.00</td>\n    </tr>\n    <tr>\n      <th>closed_code_code 7</th>\n      <td>0.00</td>\n      <td>0.00</td>\n    </tr>\n    <tr>\n      <th>closed_code_code 8</th>\n      <td>0.00</td>\n      <td>0.00</td>\n    </tr>\n    <tr>\n      <th>closed_code_code 9</th>\n      <td>0.00</td>\n      <td>0.00</td>\n    </tr>\n  </tbody>\n</table>\n</div>"
          },
          "metadata": {}
        }
      ],
      "execution_count": 38,
      "metadata": {
        "collapsed": true,
        "gather": {
          "logged": 1611818218588
        },
        "jupyter": {
          "outputs_hidden": false,
          "source_hidden": false
        },
        "nteract": {
          "transient": {
            "deleting": false
          }
        }
      }
    },
    {
      "cell_type": "markdown",
      "source": [
        "## Webservice is tested for prediction"
      ],
      "metadata": {
        "nteract": {
          "transient": {
            "deleting": false
          }
        }
      }
    },
    {
      "cell_type": "code",
      "source": [
        "import requests\r\n",
        "import json as jsn\r\n",
        "\r\n",
        "# URL for the web service\r\n",
        "# scoring_uri = 'http://29e036ea-6c5a-48e6-ad64-5464eb02ec6c.southcentralus.azurecontainer.io/score'\r\n",
        "\r\n",
        "\r\n",
        "data = {'data':[\r\n",
        "    {   \r\n",
        "   'category':20.00,\r\n",
        "    'assignment_group':60.00,\r\n",
        "    'reopen_count':\t0.00,\r\n",
        "    'made_sla':\t0.00,\r\n",
        "    'category':20.00,\r\n",
        "    'assignment_group':60.00,\r\n",
        "    'reopen_count':0.00,\r\n",
        "    'made_sla':0.00,\r\n",
        "    'priority_1 - Critical':0.00,\r\n",
        "    'priority_2 - High':1.00,\r\n",
        "    'priority_3 - Moderate':0.00,\r\n",
        "    'priority_4 - Low':0.00,\r\n",
        "    'impact_1 - High':1.00,\r\n",
        "    'impact_2 - Medium':0.00,\r\n",
        "    'impact_3 - Low':0.00,\r\n",
        "    'urgency_1 - High':0.00,\r\n",
        "    'urgency_2 - Medium':1.00,\r\n",
        "    'urgency_3 - Low':0.00,\r\n",
        "    'closed_code_?':0.00,\r\n",
        "    'closed_code_code 1':0.00,\r\n",
        "    'closed_code_code 10':0.00,\r\n",
        "    'closed_code_code 11':0.00,\r\n",
        "    'closed_code_code 12':0.00,\r\n",
        "    'closed_code_code 13':0.00,\r\n",
        "    'closed_code_code 14':0.00,\r\n",
        "    'closed_code_code 15':0.00,\r\n",
        "    'closed_code_code 16':0.00,\r\n",
        "    'closed_code_code 17':0.00,\r\n",
        "    'closed_code_code 2':0.00,\r\n",
        "    'closed_code_code 3':0.00,\r\n",
        "    'closed_code_code 4':0.00,\r\n",
        "    'closed_code_code 5':0.00,\r\n",
        "    'closed_code_code 6':1.00,\r\n",
        "    'closed_code_code 7':0.00,\r\n",
        "    'closed_code_code 8':0.00,\r\n",
        "    'closed_code_code 9':0.00\r\n",
        "    }]\r\n",
        "    }\r\n",
        "\r\n",
        "input_data = jsn.dumps(data)\r\n",
        "headers = {'Content-Type':'application/json'}\r\n",
        "\r\n",
        "# # Make the request and display the response\r\n",
        "result = requests.post(scoring_uri,input_data,headers=headers)\r\n",
        "print(\"prediction:\",result.text)"
      ],
      "outputs": [
        {
          "output_type": "stream",
          "name": "stdout",
          "text": [
            "prediction: [243.99251671240256]\n"
          ]
        }
      ],
      "execution_count": 39,
      "metadata": {
        "collapsed": true,
        "gather": {
          "logged": 1611818220861
        },
        "jupyter": {
          "outputs_hidden": false,
          "source_hidden": false
        },
        "nteract": {
          "transient": {
            "deleting": false
          }
        }
      }
    },
    {
      "cell_type": "markdown",
      "source": [],
      "metadata": {
        "nteract": {
          "transient": {
            "deleting": false
          }
        }
      }
    },
    {
      "cell_type": "markdown",
      "source": [
        "## Webservice Logs"
      ],
      "metadata": {
        "nteract": {
          "transient": {
            "deleting": false
          }
        }
      }
    },
    {
      "cell_type": "code",
      "source": [
        "    print(service.get_logs())"
      ],
      "outputs": [
        {
          "output_type": "stream",
          "name": "stdout",
          "text": [
            "2021-01-28T07:16:10,120564626+00:00 - gunicorn/run \n",
            "2021-01-28T07:16:10,220956800+00:00 - rsyslog/run \n",
            "2021-01-28T07:16:10,221031901+00:00 - iot-server/run \n",
            "2021-01-28T07:16:10,320856668+00:00 - nginx/run \n",
            "/usr/sbin/nginx: /azureml-envs/azureml_20a8278aa8b20dd48cc50f56a6d2586c/lib/libcrypto.so.1.0.0: no version information available (required by /usr/sbin/nginx)\n",
            "/usr/sbin/nginx: /azureml-envs/azureml_20a8278aa8b20dd48cc50f56a6d2586c/lib/libcrypto.so.1.0.0: no version information available (required by /usr/sbin/nginx)\n",
            "/usr/sbin/nginx: /azureml-envs/azureml_20a8278aa8b20dd48cc50f56a6d2586c/lib/libssl.so.1.0.0: no version information available (required by /usr/sbin/nginx)\n",
            "/usr/sbin/nginx: /azureml-envs/azureml_20a8278aa8b20dd48cc50f56a6d2586c/lib/libssl.so.1.0.0: no version information available (required by /usr/sbin/nginx)\n",
            "/usr/sbin/nginx: /azureml-envs/azureml_20a8278aa8b20dd48cc50f56a6d2586c/lib/libssl.so.1.0.0: no version information available (required by /usr/sbin/nginx)\n",
            "rsyslogd: /azureml-envs/azureml_20a8278aa8b20dd48cc50f56a6d2586c/lib/libuuid.so.1: no version information available (required by rsyslogd)\n",
            "EdgeHubConnectionString and IOTEDGE_IOTHUBHOSTNAME are not set. Exiting...\n",
            "2021-01-28T07:16:12,922863394+00:00 - iot-server/finish 1 0\n",
            "2021-01-28T07:16:13,020277336+00:00 - Exit code 1 is normal. Not restarting iot-server.\n",
            "Starting gunicorn 19.9.0\n",
            "Listening at: http://127.0.0.1:31311 (11)\n",
            "Using worker: sync\n",
            "worker timeout is set to 300\n",
            "Booting worker with pid: 42\n",
            "SPARK_HOME not set. Skipping PySpark Initialization.\n",
            "Generating new fontManager, this may take some time...\n",
            "Initializing logger\n",
            "2021-01-28 07:16:44,426 | root | INFO | Starting up app insights client\n",
            "2021-01-28 07:16:44,427 | root | INFO | Starting up request id generator\n",
            "2021-01-28 07:16:44,427 | root | INFO | Starting up app insight hooks\n",
            "2021-01-28 07:16:44,428 | root | INFO | Invoking user's init function\n",
            "2021-01-28 07:16:54,719 | root | INFO | Users's init has completed successfully\n",
            "2021-01-28 07:16:54,723 | root | INFO | Skipping middleware: dbg_model_info as it's not enabled.\n",
            "2021-01-28 07:16:54,723 | root | INFO | Skipping middleware: dbg_resource_usage as it's not enabled.\n",
            "2021-01-28 07:16:54,724 | root | INFO | Scoring timeout is found from os.environ: 60000 ms\n",
            "2021-01-28 07:16:54,920 | root | INFO | Swagger file not present\n",
            "2021-01-28 07:16:54,920 | root | INFO | 404\n",
            "127.0.0.1 - - [28/Jan/2021:07:16:54 +0000] \"GET /swagger.json HTTP/1.0\" 404 19 \"-\" \"Go-http-client/1.1\"\n",
            "2021-01-28 07:16:56,968 | root | INFO | Swagger file not present\n",
            "2021-01-28 07:16:56,969 | root | INFO | 404\n",
            "127.0.0.1 - - [28/Jan/2021:07:16:56 +0000] \"GET /swagger.json HTTP/1.0\" 404 19 \"-\" \"Go-http-client/1.1\"\n",
            "2021-01-28 07:16:57,808 | root | INFO | Validation Request Content-Type\n",
            "2021-01-28 07:16:57,808 | root | INFO | Scoring Timer is set to 60.0 seconds\n",
            "2021-01-28 07:17:00,720 | root | INFO | 200\n",
            "127.0.0.1 - - [28/Jan/2021:07:17:00 +0000] \"POST /score HTTP/1.0\" 200 20 \"-\" \"python-requests/2.25.1\"\n",
            "\n"
          ]
        }
      ],
      "execution_count": 40,
      "metadata": {
        "gather": {
          "logged": 1611818221111
        },
        "jupyter": {
          "outputs_hidden": false,
          "source_hidden": false
        },
        "nteract": {
          "transient": {
            "deleting": false
          }
        }
      }
    },
    {
      "cell_type": "markdown",
      "source": [
        "TODO: In the cell below, print the logs of the web service and delete the service"
      ],
      "metadata": {
        "collapsed": true,
        "gather": {
          "logged": 1598432765711
        },
        "jupyter": {
          "outputs_hidden": false,
          "source_hidden": false
        },
        "nteract": {
          "transient": {
            "deleting": false
          }
        }
      }
    },
    {
      "cell_type": "code",
      "source": [
        "\r\n",
        "# service.delete()\r\n",
        "# compute_target.delete()"
      ],
      "outputs": [],
      "execution_count": 41,
      "metadata": {
        "collapsed": true,
        "jupyter": {
          "outputs_hidden": false,
          "source_hidden": false
        },
        "nteract": {
          "transient": {
            "deleting": false
          }
        },
        "gather": {
          "logged": 1611818221385
        }
      }
    },
    {
      "cell_type": "code",
      "source": [],
      "outputs": [],
      "execution_count": null,
      "metadata": {
        "collapsed": true,
        "jupyter": {
          "outputs_hidden": false,
          "source_hidden": false
        },
        "nteract": {
          "transient": {
            "deleting": false
          }
        }
      }
    }
  ],
  "metadata": {
    "kernel_info": {
      "name": "python3-azureml"
    },
    "kernelspec": {
      "name": "python3-azureml",
      "language": "python",
      "display_name": "Python 3.6 - AzureML"
    },
    "language_info": {
      "name": "python",
      "version": "3.6.9",
      "mimetype": "text/x-python",
      "codemirror_mode": {
        "name": "ipython",
        "version": 3
      },
      "pygments_lexer": "ipython3",
      "nbconvert_exporter": "python",
      "file_extension": ".py"
    },
    "nteract": {
      "version": "nteract-front-end@1.0.0"
    },
    "toc": {
      "toc_position": {},
      "skip_h1_title": false,
      "number_sections": true,
      "title_cell": "Table of Contents",
      "toc_window_display": false,
      "base_numbering": 1,
      "toc_section_display": true,
      "title_sidebar": "Contents",
      "toc_cell": false,
      "nav_menu": {},
      "sideBar": true
    },
    "varInspector": {
      "cols": {
        "lenName": 16,
        "lenType": 16,
        "lenVar": 40
      },
      "kernels_config": {
        "python": {
          "delete_cmd_postfix": "",
          "delete_cmd_prefix": "del ",
          "library": "var_list.py",
          "varRefreshCmd": "print(var_dic_list())"
        },
        "r": {
          "delete_cmd_postfix": ") ",
          "delete_cmd_prefix": "rm(",
          "library": "var_list.r",
          "varRefreshCmd": "cat(var_dic_list()) "
        }
      },
      "types_to_exclude": [
        "module",
        "function",
        "builtin_function_or_method",
        "instance",
        "_Feature"
      ],
      "window_display": false
    }
  },
  "nbformat": 4,
  "nbformat_minor": 2
}